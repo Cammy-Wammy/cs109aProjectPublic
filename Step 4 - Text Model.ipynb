{
 "cells": [
  {
   "cell_type": "markdown",
   "metadata": {
    "nbpresent": {
     "id": "9ef47cbc-677e-47aa-9d6b-c7a942c77b37"
    }
   },
   "source": [
    "# CS 109A/AC 209A/STAT 121A Data Science: Airbnb Project\n",
    "## Step 4 - Text Analysis Model for Description\n",
    "**Harvard University**  \n",
    "**Fall 2016**  \n",
    "**Team**: Stephen Camera-Murray, Himani Garg, and Vijay Thangella  \n",
    "**TF**: Christine Hwang  \n",
    "  \n",
    "**Due Date: ** Wednesday, December 14th, 2016 at 11:59pm"
   ]
  },
  {
   "cell_type": "markdown",
   "metadata": {},
   "source": [
    "### Text Description Recommendations"
   ]
  },
  {
   "cell_type": "markdown",
   "metadata": {
    "nbpresent": {
     "id": "02fa1d29-5555-4a92-b094-71304103643f"
    }
   },
   "source": [
    "Import libraries"
   ]
  },
  {
   "cell_type": "code",
   "execution_count": 300,
   "metadata": {
    "collapsed": false,
    "nbpresent": {
     "id": "f524ead4-e782-4dd8-ad81-2d2fb91d72d4"
    }
   },
   "outputs": [],
   "source": [
    "# import libraries\n",
    "import warnings\n",
    "import numpy as np\n",
    "import pandas as pd\n",
    "import matplotlib\n",
    "import matplotlib.pyplot as plt\n",
    "import seaborn as sns\n",
    "#from sklearn.model_selection import train_test_split\n",
    "from sklearn.metrics import f1_score\n",
    "import random\n",
    "from sklearn.linear_model import LogisticRegression  as LogReg\n",
    "from PIL import Image\n",
    "# suppress warnings\n",
    "import matplotlib.image as mpimg\n",
    "warnings.filterwarnings ( 'ignore' )\n",
    "%matplotlib inline\n",
    "import os \n",
    "import nltk\n",
    "import re\n",
    "import time\n",
    "import nltk.tag.stanford as st\n",
    "from nltk.corpus import stopwords # Import the stop word list\n",
    "from sklearn.feature_extraction.text import CountVectorizer        \n",
    "from nltk.stem.porter import PorterStemmer\n",
    "from operator import itemgetter\n",
    "from sklearn.ensemble import RandomForestClassifier \n",
    "import sklearn.grid_search as gs\n",
    "from sklearn.cross_validation import cross_val_score\n",
    "import seaborn as sns\n",
    "import heapq\n",
    "from sklearn.svm import SVC\n",
    "from wordcloud import WordCloud\n",
    "from sklearn.preprocessing import StandardScaler as Standardize\n",
    "from sklearn.discriminant_analysis import LinearDiscriminantAnalysis as LDA\n",
    "from sklearn.discriminant_analysis import QuadraticDiscriminantAnalysis as QDA\n",
    "from sklearn.neighbors import KNeighborsClassifier as KNN\n",
    "from sklearn.tree import DecisionTreeClassifier as DecisionTree"
   ]
  },
  {
   "cell_type": "markdown",
   "metadata": {},
   "source": [
    "We begin by loading the listings dataset we saved after cleansing from milestone #4:  \n",
    "- cleansed_listings.csv.gz - the New York City Airbnb listing data from January 2015 (cleansed)"
   ]
  },
  {
   "cell_type": "code",
   "execution_count": 251,
   "metadata": {
    "collapsed": false,
    "scrolled": true
   },
   "outputs": [
    {
     "data": {
      "text/html": [
       "<div>\n",
       "<table border=\"1\" class=\"dataframe\">\n",
       "  <thead>\n",
       "    <tr style=\"text-align: right;\">\n",
       "      <th></th>\n",
       "      <th>name</th>\n",
       "      <th>neighborhood</th>\n",
       "      <th>property_type</th>\n",
       "      <th>room_type</th>\n",
       "      <th>accommodates</th>\n",
       "      <th>bathrooms</th>\n",
       "      <th>bedrooms</th>\n",
       "      <th>beds</th>\n",
       "      <th>bed_type</th>\n",
       "      <th>square_feet</th>\n",
       "      <th>...</th>\n",
       "      <th>review_scores_cleanliness</th>\n",
       "      <th>review_scores_checkin</th>\n",
       "      <th>review_scores_communication</th>\n",
       "      <th>review_scores_location</th>\n",
       "      <th>review_scores_value</th>\n",
       "      <th>host_listing_count</th>\n",
       "      <th>months_as_host</th>\n",
       "      <th>months_since_first_review</th>\n",
       "      <th>months_since_last_review</th>\n",
       "      <th>price_category</th>\n",
       "    </tr>\n",
       "    <tr>\n",
       "      <th>id</th>\n",
       "      <th></th>\n",
       "      <th></th>\n",
       "      <th></th>\n",
       "      <th></th>\n",
       "      <th></th>\n",
       "      <th></th>\n",
       "      <th></th>\n",
       "      <th></th>\n",
       "      <th></th>\n",
       "      <th></th>\n",
       "      <th></th>\n",
       "      <th></th>\n",
       "      <th></th>\n",
       "      <th></th>\n",
       "      <th></th>\n",
       "      <th></th>\n",
       "      <th></th>\n",
       "      <th></th>\n",
       "      <th></th>\n",
       "      <th></th>\n",
       "      <th></th>\n",
       "    </tr>\n",
       "  </thead>\n",
       "  <tbody>\n",
       "    <tr>\n",
       "      <th>1069266</th>\n",
       "      <td>Stay like a real New Yorker!</td>\n",
       "      <td>Midtown East</td>\n",
       "      <td>Apartment</td>\n",
       "      <td>Entire home/apt</td>\n",
       "      <td>2</td>\n",
       "      <td>1.0</td>\n",
       "      <td>1.0</td>\n",
       "      <td>1.0</td>\n",
       "      <td>Real Bed</td>\n",
       "      <td>1.0</td>\n",
       "      <td>...</td>\n",
       "      <td>7.0</td>\n",
       "      <td>9.0</td>\n",
       "      <td>9.0</td>\n",
       "      <td>10.0</td>\n",
       "      <td>9.0</td>\n",
       "      <td>1</td>\n",
       "      <td>21</td>\n",
       "      <td>21</td>\n",
       "      <td>1</td>\n",
       "      <td>Mid</td>\n",
       "    </tr>\n",
       "    <tr>\n",
       "      <th>2061725</th>\n",
       "      <td>Option of 2 Beds w Private Bathroom</td>\n",
       "      <td>Bushwick</td>\n",
       "      <td>Apartment</td>\n",
       "      <td>Private room</td>\n",
       "      <td>2</td>\n",
       "      <td>1.0</td>\n",
       "      <td>1.0</td>\n",
       "      <td>2.0</td>\n",
       "      <td>Real Bed</td>\n",
       "      <td>1.0</td>\n",
       "      <td>...</td>\n",
       "      <td>10.0</td>\n",
       "      <td>10.0</td>\n",
       "      <td>10.0</td>\n",
       "      <td>9.0</td>\n",
       "      <td>10.0</td>\n",
       "      <td>4</td>\n",
       "      <td>24</td>\n",
       "      <td>11</td>\n",
       "      <td>1</td>\n",
       "      <td>Low</td>\n",
       "    </tr>\n",
       "  </tbody>\n",
       "</table>\n",
       "<p>2 rows × 30 columns</p>\n",
       "</div>"
      ],
      "text/plain": [
       "                                        name  neighborhood property_type  \\\n",
       "id                                                                         \n",
       "1069266        Stay like a real New Yorker!   Midtown East     Apartment   \n",
       "2061725  Option of 2 Beds w Private Bathroom      Bushwick     Apartment   \n",
       "\n",
       "               room_type  accommodates  bathrooms  bedrooms  beds  bed_type  \\\n",
       "id                                                                            \n",
       "1069266  Entire home/apt             2        1.0       1.0   1.0  Real Bed   \n",
       "2061725     Private room             2        1.0       1.0   2.0  Real Bed   \n",
       "\n",
       "         square_feet       ...        review_scores_cleanliness  \\\n",
       "id                         ...                                    \n",
       "1069266          1.0       ...                              7.0   \n",
       "2061725          1.0       ...                             10.0   \n",
       "\n",
       "         review_scores_checkin  review_scores_communication  \\\n",
       "id                                                            \n",
       "1069266                    9.0                          9.0   \n",
       "2061725                   10.0                         10.0   \n",
       "\n",
       "         review_scores_location  review_scores_value  host_listing_count  \\\n",
       "id                                                                         \n",
       "1069266                    10.0                  9.0                   1   \n",
       "2061725                     9.0                 10.0                   4   \n",
       "\n",
       "         months_as_host  months_since_first_review  months_since_last_review  \\\n",
       "id                                                                             \n",
       "1069266              21                         21                         1   \n",
       "2061725              24                         11                         1   \n",
       "\n",
       "         price_category  \n",
       "id                       \n",
       "1069266             Mid  \n",
       "2061725             Low  \n",
       "\n",
       "[2 rows x 30 columns]"
      ]
     },
     "execution_count": 251,
     "metadata": {},
     "output_type": "execute_result"
    }
   ],
   "source": [
    "# load listings data into a pandas df\n",
    "listingsDF = pd.read_csv (  './datasets/cleansed_listings_with_target.tab.gz', sep = '\\t', index_col = 'id', compression = 'gzip' )\n",
    "\n",
    "# display the first two rows\n",
    "listingsDF.head ( n = 2 )"
   ]
  },
  {
   "cell_type": "markdown",
   "metadata": {},
   "source": [
    "** DATA EXPLORATION **"
   ]
  },
  {
   "cell_type": "code",
   "execution_count": 252,
   "metadata": {
    "collapsed": false
   },
   "outputs": [
    {
     "data": {
      "text/plain": [
       "(19526, 30)"
      ]
     },
     "execution_count": 252,
     "metadata": {},
     "output_type": "execute_result"
    }
   ],
   "source": [
    "listingsDF.shape"
   ]
  },
  {
   "cell_type": "markdown",
   "metadata": {},
   "source": [
    "** A new column high price  has been created by combining high and medium class**"
   ]
  },
  {
   "cell_type": "code",
   "execution_count": 253,
   "metadata": {
    "collapsed": false
   },
   "outputs": [
    {
     "data": {
      "text/html": [
       "<div>\n",
       "<table border=\"1\" class=\"dataframe\">\n",
       "  <thead>\n",
       "    <tr style=\"text-align: right;\">\n",
       "      <th></th>\n",
       "      <th>name</th>\n",
       "      <th>neighborhood</th>\n",
       "      <th>property_type</th>\n",
       "      <th>room_type</th>\n",
       "      <th>accommodates</th>\n",
       "      <th>bathrooms</th>\n",
       "      <th>bedrooms</th>\n",
       "      <th>beds</th>\n",
       "      <th>bed_type</th>\n",
       "      <th>square_feet</th>\n",
       "      <th>...</th>\n",
       "      <th>review_scores_checkin</th>\n",
       "      <th>review_scores_communication</th>\n",
       "      <th>review_scores_location</th>\n",
       "      <th>review_scores_value</th>\n",
       "      <th>host_listing_count</th>\n",
       "      <th>months_as_host</th>\n",
       "      <th>months_since_first_review</th>\n",
       "      <th>months_since_last_review</th>\n",
       "      <th>price_category</th>\n",
       "      <th>high_price</th>\n",
       "    </tr>\n",
       "    <tr>\n",
       "      <th>id</th>\n",
       "      <th></th>\n",
       "      <th></th>\n",
       "      <th></th>\n",
       "      <th></th>\n",
       "      <th></th>\n",
       "      <th></th>\n",
       "      <th></th>\n",
       "      <th></th>\n",
       "      <th></th>\n",
       "      <th></th>\n",
       "      <th></th>\n",
       "      <th></th>\n",
       "      <th></th>\n",
       "      <th></th>\n",
       "      <th></th>\n",
       "      <th></th>\n",
       "      <th></th>\n",
       "      <th></th>\n",
       "      <th></th>\n",
       "      <th></th>\n",
       "      <th></th>\n",
       "    </tr>\n",
       "  </thead>\n",
       "  <tbody>\n",
       "    <tr>\n",
       "      <th>1069266</th>\n",
       "      <td>Stay like a real New Yorker!</td>\n",
       "      <td>Midtown East</td>\n",
       "      <td>Apartment</td>\n",
       "      <td>Entire home/apt</td>\n",
       "      <td>2</td>\n",
       "      <td>1.0</td>\n",
       "      <td>1.0</td>\n",
       "      <td>1.0</td>\n",
       "      <td>Real Bed</td>\n",
       "      <td>1.0</td>\n",
       "      <td>...</td>\n",
       "      <td>9.000000</td>\n",
       "      <td>9.00000</td>\n",
       "      <td>10.000000</td>\n",
       "      <td>9.000000</td>\n",
       "      <td>1</td>\n",
       "      <td>21</td>\n",
       "      <td>21</td>\n",
       "      <td>1</td>\n",
       "      <td>Mid</td>\n",
       "      <td>1</td>\n",
       "    </tr>\n",
       "    <tr>\n",
       "      <th>2061725</th>\n",
       "      <td>Option of 2 Beds w Private Bathroom</td>\n",
       "      <td>Bushwick</td>\n",
       "      <td>Apartment</td>\n",
       "      <td>Private room</td>\n",
       "      <td>2</td>\n",
       "      <td>1.0</td>\n",
       "      <td>1.0</td>\n",
       "      <td>2.0</td>\n",
       "      <td>Real Bed</td>\n",
       "      <td>1.0</td>\n",
       "      <td>...</td>\n",
       "      <td>10.000000</td>\n",
       "      <td>10.00000</td>\n",
       "      <td>9.000000</td>\n",
       "      <td>10.000000</td>\n",
       "      <td>4</td>\n",
       "      <td>24</td>\n",
       "      <td>11</td>\n",
       "      <td>1</td>\n",
       "      <td>Low</td>\n",
       "      <td>0</td>\n",
       "    </tr>\n",
       "    <tr>\n",
       "      <th>44974</th>\n",
       "      <td>Charming Bright West Village Studio</td>\n",
       "      <td>West Village</td>\n",
       "      <td>Apartment</td>\n",
       "      <td>Entire home/apt</td>\n",
       "      <td>2</td>\n",
       "      <td>1.0</td>\n",
       "      <td>1.0</td>\n",
       "      <td>1.0</td>\n",
       "      <td>Real Bed</td>\n",
       "      <td>1.0</td>\n",
       "      <td>...</td>\n",
       "      <td>10.000000</td>\n",
       "      <td>10.00000</td>\n",
       "      <td>10.000000</td>\n",
       "      <td>9.000000</td>\n",
       "      <td>1</td>\n",
       "      <td>53</td>\n",
       "      <td>51</td>\n",
       "      <td>3</td>\n",
       "      <td>Mid</td>\n",
       "      <td>1</td>\n",
       "    </tr>\n",
       "    <tr>\n",
       "      <th>4701675</th>\n",
       "      <td>Charming Apartment in Chelsea</td>\n",
       "      <td>Chelsea</td>\n",
       "      <td>Apartment</td>\n",
       "      <td>Entire home/apt</td>\n",
       "      <td>2</td>\n",
       "      <td>1.0</td>\n",
       "      <td>1.0</td>\n",
       "      <td>2.0</td>\n",
       "      <td>Real Bed</td>\n",
       "      <td>1.0</td>\n",
       "      <td>...</td>\n",
       "      <td>10.000000</td>\n",
       "      <td>10.00000</td>\n",
       "      <td>10.000000</td>\n",
       "      <td>10.000000</td>\n",
       "      <td>1</td>\n",
       "      <td>3</td>\n",
       "      <td>1</td>\n",
       "      <td>1</td>\n",
       "      <td>Mid</td>\n",
       "      <td>1</td>\n",
       "    </tr>\n",
       "    <tr>\n",
       "      <th>4832596</th>\n",
       "      <td>Large furnished sunny room</td>\n",
       "      <td>Bushwick</td>\n",
       "      <td>Apartment</td>\n",
       "      <td>Private room</td>\n",
       "      <td>2</td>\n",
       "      <td>1.0</td>\n",
       "      <td>1.0</td>\n",
       "      <td>1.0</td>\n",
       "      <td>Real Bed</td>\n",
       "      <td>1.0</td>\n",
       "      <td>...</td>\n",
       "      <td>9.584855</td>\n",
       "      <td>9.67541</td>\n",
       "      <td>9.246366</td>\n",
       "      <td>9.140759</td>\n",
       "      <td>1</td>\n",
       "      <td>26</td>\n",
       "      <td>0</td>\n",
       "      <td>63</td>\n",
       "      <td>Low</td>\n",
       "      <td>0</td>\n",
       "    </tr>\n",
       "  </tbody>\n",
       "</table>\n",
       "<p>5 rows × 31 columns</p>\n",
       "</div>"
      ],
      "text/plain": [
       "                                        name  neighborhood property_type  \\\n",
       "id                                                                         \n",
       "1069266        Stay like a real New Yorker!   Midtown East     Apartment   \n",
       "2061725  Option of 2 Beds w Private Bathroom      Bushwick     Apartment   \n",
       "44974    Charming Bright West Village Studio  West Village     Apartment   \n",
       "4701675        Charming Apartment in Chelsea       Chelsea     Apartment   \n",
       "4832596           Large furnished sunny room      Bushwick     Apartment   \n",
       "\n",
       "               room_type  accommodates  bathrooms  bedrooms  beds  bed_type  \\\n",
       "id                                                                            \n",
       "1069266  Entire home/apt             2        1.0       1.0   1.0  Real Bed   \n",
       "2061725     Private room             2        1.0       1.0   2.0  Real Bed   \n",
       "44974    Entire home/apt             2        1.0       1.0   1.0  Real Bed   \n",
       "4701675  Entire home/apt             2        1.0       1.0   2.0  Real Bed   \n",
       "4832596     Private room             2        1.0       1.0   1.0  Real Bed   \n",
       "\n",
       "         square_feet     ...      review_scores_checkin  \\\n",
       "id                       ...                              \n",
       "1069266          1.0     ...                   9.000000   \n",
       "2061725          1.0     ...                  10.000000   \n",
       "44974            1.0     ...                  10.000000   \n",
       "4701675          1.0     ...                  10.000000   \n",
       "4832596          1.0     ...                   9.584855   \n",
       "\n",
       "         review_scores_communication  review_scores_location  \\\n",
       "id                                                             \n",
       "1069266                      9.00000               10.000000   \n",
       "2061725                     10.00000                9.000000   \n",
       "44974                       10.00000               10.000000   \n",
       "4701675                     10.00000               10.000000   \n",
       "4832596                      9.67541                9.246366   \n",
       "\n",
       "         review_scores_value  host_listing_count  months_as_host  \\\n",
       "id                                                                 \n",
       "1069266             9.000000                   1              21   \n",
       "2061725            10.000000                   4              24   \n",
       "44974               9.000000                   1              53   \n",
       "4701675            10.000000                   1               3   \n",
       "4832596             9.140759                   1              26   \n",
       "\n",
       "         months_since_first_review  months_since_last_review  price_category  \\\n",
       "id                                                                             \n",
       "1069266                         21                         1             Mid   \n",
       "2061725                         11                         1             Low   \n",
       "44974                           51                         3             Mid   \n",
       "4701675                          1                         1             Mid   \n",
       "4832596                          0                        63             Low   \n",
       "\n",
       "         high_price  \n",
       "id                   \n",
       "1069266           1  \n",
       "2061725           0  \n",
       "44974             1  \n",
       "4701675           1  \n",
       "4832596           0  \n",
       "\n",
       "[5 rows x 31 columns]"
      ]
     },
     "execution_count": 253,
     "metadata": {},
     "output_type": "execute_result"
    }
   ],
   "source": [
    "listingsDF['high_price'] = np.where(listingsDF['price_category']=='Low', 0, 1)\n",
    "listingsDF.head(n=5)"
   ]
  },
  {
   "cell_type": "code",
   "execution_count": 254,
   "metadata": {
    "collapsed": false
   },
   "outputs": [
    {
     "data": {
      "image/png": "[encoded data removed]",
      "text/plain": [
       "<matplotlib.figure.Figure at 0x224d3550>"
      ]
     },
     "metadata": {},
     "output_type": "display_data"
    }
   ],
   "source": [
    "#plot a pie chart to see ratio between positve and negative opinion \n",
    "fig = plt.figure(figsize=(3,3))\n",
    "plt.title('Frequency of High and Low', bbox={'facecolor':'0.8', 'pad':5})\n",
    "\n",
    "# The slices will be ordered and plotted counter-clockwise.\n",
    "# define dataset\n",
    "\n",
    "High  = (listingsDF['high_price']==1).sum()\n",
    "\n",
    "Low = (listingsDF['high_price']==0).sum()\n",
    "\n",
    "fractionsc = [High,Low]\n",
    "# The slices will be ordered and plotted counter-clockwise.\n",
    "labels = 'High:'+str(High), 'Low:'+str(Low)\n",
    "\n",
    "# plt the pie \n",
    "plt.pie( fractionsc,  \n",
    "                  colors=['lavender', 'thistle'],\n",
    "                 labels=labels,\n",
    "               shadow=False, startangle=90)\n",
    "\n",
    "plt.show()\n",
    "\n",
    "\n",
    "\n",
    "\n"
   ]
  },
  {
   "cell_type": "markdown",
   "metadata": {},
   "source": [
    "** As per pie chart the classes seems not to be highly imbalance, enough data points are present for both the classes for training the model**"
   ]
  },
  {
   "cell_type": "code",
   "execution_count": 255,
   "metadata": {
    "collapsed": false
   },
   "outputs": [
    {
     "data": {
      "text/plain": [
       "id\n",
       "1069266          Stay like a real New Yorker! \n",
       "2061725    Option of 2 Beds w Private Bathroom\n",
       "44974      Charming Bright West Village Studio\n",
       "4701675          Charming Apartment in Chelsea\n",
       "4832596             Large furnished sunny room\n",
       "2562510      2 br Private Room in LI/Chinatown\n",
       "1322641       Beautiful 1100ft - Furnished Apt\n",
       "4833061                               Bushwick\n",
       "2000287     Fabulous Fall GTWY Eastern Parkway\n",
       "2525956    Beautiful 1 Bdr in the heart of NYC\n",
       "809929         Clean and Cozy West Village Apt\n",
       "753622        1 Private Bedroom / East Village\n",
       "1781041    Beautiful Apt. - 15 min. to Midtown\n",
       "4323940    Sanctuary by Prospect Park w/ Sauna\n",
       "1832976           Convenient Downtown location\n",
       "4218098     1 bedroom apt CentralPark-Columbia\n",
       "4053471      Apartment in Heart of Greenpoint \n",
       "4831993    HUGE BR w/Bathroom in LUX Apt. Bldg\n",
       "2596813    UWS Near #1, Columbia U, St. John's\n",
       "4810267                Trendy NoLita Apartment\n",
       "4358437     Gorgeous-w/Balcony-Airport Pick up\n",
       "26229        **Union Square Luxury Apartment**\n",
       "3414741        Luxury downtown 1BR rental NYC \n",
       "4796066         Cozy room in Hells kitchen NYC\n",
       "1006877    BEST WESTON TWO - 1 BR East Village\n",
       "798391          Hamilton Heights/Harlem Escape\n",
       "3235070         Peaceful, beautiful home away \n",
       "2677222                      Best of the Best!\n",
       "244481     Special Rate! Wall St gym & doorman\n",
       "2407196      Harlem House,Bedrm w/Private Bath\n",
       "4849849         2 Bedroom Apt | 5 min to train\n",
       "4846095      Private BR in Prime Bushwick Spot\n",
       "4879165    **1BD Quiet Sunny East Village Gem \n",
       "783964      GREAT ROOM Fast TO TIMES SQR -9min\n",
       "2769628    Comfy room, spacious Manhattan apt.\n",
       "2568017     Hinds Residential Suites 26MX RM 1\n",
       "4719789       Large Room in Beautiful Bushwick\n",
       "3595080    Dead quiet, sunny room in W Village\n",
       "4468759        Very convenient, spacious, tidy\n",
       "4791467                     1/3 BR in Bushwick\n",
       "Name: name, dtype: object"
      ]
     },
     "execution_count": 255,
     "metadata": {},
     "output_type": "execute_result"
    }
   ],
   "source": [
    "listingsDF['name'][0:40] "
   ]
  },
  {
   "cell_type": "markdown",
   "metadata": {},
   "source": [
    " Above dataset has many problems like punctuation,capitalization, all the different neighborhoods have been replaced to space.The reason behind doing this is that we want  to see what other words apart from neighborhood are helpful  for high listings. Also there are many words similar like apt and apartment  , min and mins which have high frequencies compare to other words so it has been changed to apartment and minutes. \n",
    " \n",
    " \n",
    " "
   ]
  },
  {
   "cell_type": "markdown",
   "metadata": {},
   "source": [
    "It seems data has issues of typo like 'appartement' ,'appartment' to correct that tried to install the Speller Check of pyenchant library but its only available for 32 bit so we have change the data above for most frequent words as above."
   ]
  },
  {
   "cell_type": "code",
   "execution_count": 256,
   "metadata": {
    "collapsed": false
   },
   "outputs": [
    {
     "data": {
      "text/plain": [
       "id\n",
       "1069266                stay like a real new yorker  \n",
       "2061725          option of   beds w private bathroom\n",
       "44974                        charming bright  studio\n",
       "4701675                       charming apartment in \n",
       "4832596                   large furnished sunny room\n",
       "2562510                       br private room in li \n",
       "1322641             beautiful     ft   furnished apt\n",
       "4833061                                             \n",
       "2000287           fabulous fall gtwy eastern parkway\n",
       "2525956          beautiful   bdr in the heart of nyc\n",
       "809929                           clean and cozy  apt\n",
       "753622                            private bedroom   \n",
       "1781041           beautiful apartment       min  to \n",
       "4323940          sanctuary by prospect park w  sauna\n",
       "1832976                 convenient downtown location\n",
       "4218098       bedroom apartment centralpark columbia\n",
       "4053471                      apartment in heart of  \n",
       "4831993    huge br w bathroom in lux apartment  bldg\n",
       "2596813          uws near     columbia u  st  john s\n",
       "4810267                      trendy nolita apartment\n",
       "4358437           gorgeous w balcony airport pick up\n",
       "26229                             luxury apartment  \n",
       "3414741              luxury downtown  br rental nyc \n",
       "4796066               cozy room in hells kitchen nyc\n",
       "1006877                      best weston two     br \n",
       "798391                                        escape\n",
       "3235070               peaceful  beautiful home away \n",
       "2677222                            best of the best \n",
       "244481           special rate  wall st gym   doorman\n",
       "2407196                   house bedrm w private bath\n",
       "4849849           bedroom apartment     min to train\n",
       "4846095                    private br in prime  spot\n",
       "4879165                         bd quiet sunny  gem \n",
       "783964            great room fast to times sqr   min\n",
       "2769628             comfy room  spacious  apartment \n",
       "2568017           hinds residential suites   mx rm  \n",
       "4719789                     large room in beautiful \n",
       "3595080          dead quiet  sunny room in w village\n",
       "4468759              very convenient  spacious  tidy\n",
       "4791467                                       br in \n",
       "Name: name, dtype: object"
      ]
     },
     "execution_count": 256,
     "metadata": {},
     "output_type": "execute_result"
    }
   ],
   "source": [
    "# Clean the dataset\n",
    "neighborhood = set(listingsDF['neighborhood'].values)\n",
    "\n",
    "\n",
    "#Replace all the neighborhood \n",
    "for word in neighborhood: \n",
    "    listingsDF['name'] = listingsDF['name'].str.replace(word, '')\n",
    "# replace all the non alphanumeric characters    \n",
    "listingsDF['name'] = listingsDF['name'].str.replace(\"[^a-zA-Z]\", \" \")\n",
    "# convert the text into lower\n",
    "listingsDF['name'] = listingsDF['name'].str.lower()\n",
    "# convert apt into apartment \n",
    "listingsDF['name'] = listingsDF['name'].str.replace(\" apt \", \" apartment \") \n",
    "listingsDF['name'] = listingsDF['name'].str.replace(\" train  \", \" trains \") \n",
    "listingsDF['name'] = listingsDF['name'].str.replace(\" mins  \", \" minutes \")\n",
    "listingsDF['name'] = listingsDF['name'].str.replace(\" apartm  \", \" apartment \")\n",
    "listingsDF['name'] = listingsDF['name'].str.replace(\" appartment  \", \" apartment \")\n",
    "listingsDF['name'] = listingsDF['name'].str.replace(\"appartment\", \"\")\n",
    "listingsDF['name'] = listingsDF['name'].str.replace(\"apartm  \", \"\")\n",
    "\n",
    "listingsDF['name'][0:40]  \n",
    "    \n",
    "  "
   ]
  },
  {
   "cell_type": "markdown",
   "metadata": {},
   "source": [
    "Next step is to remove all the words like singular letters, prepositions that  are not required for the analysis \" Stop words\""
   ]
  },
  {
   "cell_type": "code",
   "execution_count": 257,
   "metadata": {
    "collapsed": false
   },
   "outputs": [
    {
     "name": "stdout",
     "output_type": "stream",
     "text": [
      "set([u'all', 'gr', u'just', u'being', u'over', u'through', u'during', u'its', u'before', 'one', u'hadn', u'with', u'll', u'had', u'should', u'to', u'only', u'does', u'under', u'ours', u'has', u'do', u'them', u'his', u'very', u'they', u'not', u'yourselves', u'now', u'him', u'nor', u'd', u'did', 'h', u'didn', 'l', u'these', u'she', u'each', 'x', u'where', 'e', u'because', 'sep', u'doing', u'theirs', u'some', u'we', u'up', u'are', u'further', 'ev', u'ourselves', u'out', u'what', 'u', u'for', 'p', u'weren', u're', u'won', u'above', u'between', 'rm', u'mustn', u't', 'bd', u'be', u'hasn', u'after', 'ba', 'v', u'here', u'shouldn', 'br', u'hers', 'r', u'by', u'both', u'about', u'couldn', 'g', u'of', 'k', u'o', u's', u'isn', 'w', u'or', 'dm', u'own', u'into', 'apt', u'yourself', u'down', 'wth', u'mightn', u'wasn', u'your', u'from', u'her', u'their', u'aren', u'there', u'been', u'few', u'too', u'then', u'themselves', u'was', u'until', 'pl', u'more', u'himself', u'on', 'c', u'but', u'off', u'herself', u'than', u'those', u'he', u'me', u'myself', 'b', u'ma', 'f', u'this', 'j', u'whom', 'n', u'will', u'while', u'ain', u'below', u'can', u'were', 'z', u'my', u'at', u'and', u've', u'wouldn', u'is', u'in', u'am', u'it', u'doesn', u'an', 'ap', u'as', u'itself', u'against', u'have', u'our', u'any', u'if', u'again', u'no', u'that', u'when', u'same', u'how', u'other', u'which', 'bdrm', 'nyc', u'you', u'shan', u'needn', 'fr', u'haven', u'who', u'most', u'such', u'why', u'a', u'don', 'rr', u'i', u'm', u'having', 'q', u'so', u'y', u'the', u'yours', u'once'])\n"
     ]
    }
   ],
   "source": [
    "# check all the stop words\n",
    "stops = set(stopwords.words(\"english\"))\n",
    "# Add all other words whch are singular \n",
    "stops = stops | set(['w','br','wth','x','rm','nyc','bd','bdrm','gr','f','ap','b','c','d','e','f','g','h','j','k','l','m','n','o','p','q','r','s','t','u','v','y','z','apt','one','sep','fr','dm','ba','pl','ev','rr'])\n",
    "#check the stop list\n",
    "print stops"
   ]
  },
  {
   "cell_type": "markdown",
   "metadata": {},
   "source": [
    "Preparing a corpus\n",
    "\n",
    "\n",
    "A corpus or text corpus is a large and structured set of texts . They are used to do statistical analysis and hypothesis testing, checking occurrences or validating linguistic rules within a specific language territory. In our case, we are talking about the collection of text fragments that we want to classify in either high or low listing.\n",
    "The method fit_transform does two functions: First, it fits the model and learns the vocabulary; second, it transforms our corpus data into feature vectors"
   ]
  },
  {
   "cell_type": "code",
   "execution_count": 258,
   "metadata": {
    "collapsed": false
   },
   "outputs": [
    {
     "name": "stdout",
     "output_type": "stream",
     "text": [
      "[u'abode', u'ac', u'access', u'across', u'action', u'adorable', u'affordable', u'airport', u'airy', u'alcove', u'alphabet', u'amazing', u'amazingly', u'amenities', u'amsterdam', u'apart', u'apartm', u'apartmen', u'apartment', u'appartement', u'apple', u'architect', u'area', u'art', u'artist']\n"
     ]
    }
   ],
   "source": [
    "def vector_fit(corpus, min_df):\n",
    "##Display feature names##\n",
    "#Convert a collection of text documents to a matrix of token counts#\n",
    "\n",
    "    vectorizer = CountVectorizer( lowercase = True,stop_words = stops\n",
    "                             ,min_df= min_df, token_pattern=r'\\b\\w+\\b')\n",
    "    corpus_data_features = vectorizer.fit_transform(corpus)\n",
    "    corpus_data_array = corpus_data_features.toarray()\n",
    "    return  vectorizer.get_feature_names(), corpus_data_array\n",
    "\n",
    "\n",
    "#function call for whole data\n",
    "feature_name , x = vector_fit(listingsDF['name'].values,4)\n",
    "y = listingsDF['high_price'].values\n",
    "print feature_name[0:25]\n",
    "\n",
    "\n",
    "\n",
    "\n"
   ]
  },
  {
   "cell_type": "code",
   "execution_count": 259,
   "metadata": {
    "collapsed": false
   },
   "outputs": [
    {
     "name": "stdout",
     "output_type": "stream",
     "text": [
      "Number of non unique words (features) used : 3056\n",
      "\n",
      "Number of words non unique (features) used in for identifying high price: 1887\n",
      "\n",
      " Number of words non unique (features) used in for identifying low price:  2279\n"
     ]
    }
   ],
   "source": [
    "#function call to get no of words\n",
    "_ , x_u = vector_fit(listingsDF['name'].values,1)\n",
    "\n",
    "Pos_df = listingsDF.loc[listingsDF['high_price']==1]\n",
    "feature_name_pos ,x_pos = vector_fit(Pos_df['name'].values,1)\n",
    "\n",
    "Neg_df= listingsDF.loc[listingsDF['high_price']==0]\n",
    "feature_name_neg  ,x_neg = vector_fit(Neg_df['name'].values,1)\n",
    "\n",
    "x_hicount = x_pos.shape[1]\n",
    "x_lowcount = x_neg.shape[1]\n",
    "\n",
    "print 'Number of non unique words (features) used :', x_u.shape[1]\n",
    "print '\\nNumber of words non unique (features) used in for identifying high price:', x_hicount\n",
    "print '\\n Number of words non unique (features) used in for identifying low price: ', x_lowcount\n"
   ]
  },
  {
   "cell_type": "markdown",
   "metadata": {},
   "source": [
    "The min_df value has been set as 4 because it was givng the the best accuracy score , if the value was increased or decreased the accuracy score was getting down. "
   ]
  },
  {
   "cell_type": "code",
   "execution_count": 260,
   "metadata": {
    "collapsed": false
   },
   "outputs": [
    {
     "name": "stdout",
     "output_type": "stream",
     "text": [
      "Number of words (features) used : 916\n",
      "\n",
      "Number of words (features) used in for identifying high price: 566\n",
      "\n",
      " Number of words (features) used in for identifying low price:  681\n"
     ]
    }
   ],
   "source": [
    "\n",
    "# to visualise get the array of positive and negative \n",
    "Pos_df = listingsDF.loc[listingsDF['high_price']==1]\n",
    "feature_name_pos ,x_pos = vector_fit(Pos_df['name'].values,4)\n",
    "\n",
    "Neg_df= listingsDF.loc[listingsDF['high_price']==0]\n",
    "feature_name_neg ,x_neg = vector_fit(Neg_df['name'].values,4)\n",
    "\n",
    "print 'Number of words (features) used :', x.shape[1]\n",
    "print '\\nNumber of words (features) used in for identifying high price:', x_pos.shape[1]\n",
    "print '\\n Number of words (features) used in for identifying low price: ', x_neg.shape[1]"
   ]
  },
  {
   "cell_type": "markdown",
   "metadata": {},
   "source": [
    "From our corpus we can see we have only 916 meaningful unique words . For high Listing its :566 and for low income:681\n",
    "There seems to be significant amount of overlapping of words in both the clasess. \n"
   ]
  },
  {
   "cell_type": "code",
   "execution_count": 261,
   "metadata": {
    "collapsed": false,
    "scrolled": true
   },
   "outputs": [],
   "source": [
    "# function to create datset of words  with counts in high ,low ,total\n",
    "\n",
    "def df_list(x_srt , feature):\n",
    "    dist = np.sum(x_srt, axis=0)\n",
    "    \n",
    "\n",
    "    # initializse list\n",
    "    word_list = []\n",
    "    count_list=[]\n",
    "    # get the count and feature name\n",
    "    for tag, count in zip(feature , dist):\n",
    "    \n",
    "    # apeend the list with count and feature name\n",
    "        word_list.append(tag)\n",
    "        count_list.append(count)\n",
    "        \n",
    "    # create dataset\n",
    "    df = pd.DataFrame()\n",
    "    df['word'] = word_list\n",
    "    df['count'] = count_list\n",
    "    #return dataset\n",
    "    return df"
   ]
  },
  {
   "cell_type": "markdown",
   "metadata": {},
   "source": [
    "** Let's check the frequencies of all the words across all the classes  '"
   ]
  },
  {
   "cell_type": "code",
   "execution_count": 250,
   "metadata": {
    "collapsed": true
   },
   "outputs": [
    {
     "data": {
      "text/html": [
       "<div>\n",
       "<table border=\"1\" class=\"dataframe\">\n",
       "  <thead>\n",
       "    <tr style=\"text-align: right;\">\n",
       "      <th></th>\n",
       "      <th>word</th>\n",
       "      <th>Total_Count</th>\n",
       "      <th>High_Count</th>\n",
       "      <th>Low_Count</th>\n",
       "      <th>High_freq</th>\n",
       "      <th>Low_freq</th>\n",
       "      <th>High - Low</th>\n",
       "    </tr>\n",
       "  </thead>\n",
       "  <tbody>\n",
       "    <tr>\n",
       "      <th>0</th>\n",
       "      <td>abode</td>\n",
       "      <td>21</td>\n",
       "      <td>7</td>\n",
       "      <td>14</td>\n",
       "      <td>0.00371</td>\n",
       "      <td>0.006143</td>\n",
       "      <td>-0.243345</td>\n",
       "    </tr>\n",
       "    <tr>\n",
       "      <th>1</th>\n",
       "      <td>ac</td>\n",
       "      <td>13</td>\n",
       "      <td>1</td>\n",
       "      <td>12</td>\n",
       "      <td>0.00053</td>\n",
       "      <td>0.005265</td>\n",
       "      <td>-0.473553</td>\n",
       "    </tr>\n",
       "    <tr>\n",
       "      <th>2</th>\n",
       "      <td>access</td>\n",
       "      <td>30</td>\n",
       "      <td>8</td>\n",
       "      <td>22</td>\n",
       "      <td>0.00424</td>\n",
       "      <td>0.009653</td>\n",
       "      <td>-0.541382</td>\n",
       "    </tr>\n",
       "    <tr>\n",
       "      <th>3</th>\n",
       "      <td>across</td>\n",
       "      <td>15</td>\n",
       "      <td>4</td>\n",
       "      <td>11</td>\n",
       "      <td>0.00212</td>\n",
       "      <td>0.004827</td>\n",
       "      <td>-0.270691</td>\n",
       "    </tr>\n",
       "    <tr>\n",
       "      <th>4</th>\n",
       "      <td>action</td>\n",
       "      <td>4</td>\n",
       "      <td>2</td>\n",
       "      <td>2</td>\n",
       "      <td>0.00106</td>\n",
       "      <td>0.000878</td>\n",
       "      <td>0.018231</td>\n",
       "    </tr>\n",
       "  </tbody>\n",
       "</table>\n",
       "</div>"
      ],
      "text/plain": [
       "     word  Total_Count  High_Count  Low_Count  High_freq  Low_freq  High - Low\n",
       "0   abode           21           7         14    0.00371  0.006143   -0.243345\n",
       "1      ac           13           1         12    0.00053  0.005265   -0.473553\n",
       "2  access           30           8         22    0.00424  0.009653   -0.541382\n",
       "3  across           15           4         11    0.00212  0.004827   -0.270691\n",
       "4  action            4           2          2    0.00106  0.000878    0.018231"
      ]
     },
     "execution_count": 250,
     "metadata": {},
     "output_type": "execute_result"
    }
   ],
   "source": [
    "# Create dataset will all stats counts ,frequency\n",
    "# return dataset of  total ,hihg , low\n",
    "df_total = df_list(x , feature_name)\n",
    "df_high = df_list(x_pos , feature_name_pos)\n",
    "df_low = df_list(x_neg , feature_name_neg)\n",
    "\n",
    "# join the dataset total with high and low dataset using left outer join\n",
    "new_df = pd.merge(df_total, df_high, on='word', how='left')\n",
    "final_word_df = pd.merge(new_df, df_low, on='word', how='left')\n",
    "# replace the 'Nan with 0'\n",
    "final_word_df.fillna(0, inplace=True)\n",
    "final_word_df[['count_y', 'count']] = final_word_df[['count_y', 'count']].astype(int)\n",
    "#Rename the default columns to readable columns\n",
    "final_word_df.rename(columns={'count_x': 'Total_Count', 'count_y': 'High_Count', 'count': 'Low_Count'}, inplace=True)\n",
    "\n",
    "# Get the frequencies\n",
    "final_word_df[\"High_freq\"]= final_word_df['High_Count']/x_hicount\n",
    "final_word_df[\"Low_freq\"]= final_word_df['Low_Count']/x_lowcount\n",
    "final_word_df[\"High - Low\"] = (final_word_df[\"High_freq\"]- final_word_df[\"Low_freq\"])*100\n",
    " \n",
    "final_word_df.head()"
   ]
  },
  {
   "cell_type": "code",
   "execution_count": 262,
   "metadata": {
    "collapsed": false
   },
   "outputs": [
    {
     "name": "stdout",
     "output_type": "stream",
     "text": [
      "full datset word list: [(u'apartment', 3856), (u'bedroom', 3063), (u'private', 2543), (u'cozy', 1624), (u'spacious', 1277), (u'sunny', 1256), (u'loft', 1097), (u'beautiful', 1063), (u'large', 974), (u'park', 880), (u'studio', 880), (u'great', 752), (u'charming', 733), (u'location', 722), (u'luxury', 721), (u'central', 652), (u'heart', 639), (u'bed', 605), (u'near', 588)]\n",
      "\n",
      "\n",
      "Pos datset word list: [(u'bedroom', 1414), (u'spacious', 600), (u'loft', 589), (u'room', 582), (u'studio', 570), (u'beautiful', 544), (u'private', 543), (u'luxury', 527), (u'cozy', 486), (u'sunny', 481), (u'park', 430), (u'charming', 425), (u'large', 412), (u'location', 405), (u'heart', 401), (u'central', 376), (u'modern', 347), (u'great', 318), (u'bed', 280)]\n",
      "\n",
      "\n",
      "Neg datset word list: [(u'private', 2000), (u'bedroom', 1649), (u'apartment', 1636), (u'cozy', 1138), (u'sunny', 775), (u'spacious', 677), (u'large', 562), (u'beautiful', 519), (u'loft', 508), (u'park', 450), (u'great', 434), (u'near', 349), (u'bed', 325), (u'location', 317), (u'studio', 310), (u'charming', 308), (u'huge', 308), (u'new', 308), (u'central', 276)]\n"
     ]
    }
   ],
   "source": [
    "# For each, print the vocabulary word and the number of times it and sort them in desecnding order based on count \n",
    "# appears in the data set for full, neg ,pos datastet\n",
    "def sort_list(x_srt , feature):\n",
    "    dist = np.sum(x_srt, axis=0)\n",
    "    \n",
    "\n",
    "# initializse list\n",
    "    word_list = []\n",
    "# get the count and feature name\n",
    "    for tag, count in zip(feature , dist):\n",
    "        \n",
    " \n",
    "         word_list.append((tag,count))\n",
    "# sort the list        \n",
    "    word_list.sort(key=itemgetter(1), reverse=True)\n",
    "    return  word_list\n",
    "# print the list\n",
    "\n",
    "word_list = sort_list(x , feature_name)\n",
    "word_list_pos = sort_list(x_pos , feature_name_pos)\n",
    "word_list_neg = sort_list(x_neg , feature_name_neg)\n",
    "print \"full datset word list:\", word_list[1:20]\n",
    "print('\\n')\n",
    "print \"Pos datset word list:\", word_list_pos[1:20]\n",
    "print('\\n')\n",
    "print \"Neg datset word list:\", word_list_neg[1:20]"
   ]
  },
  {
   "cell_type": "code",
   "execution_count": 324,
   "metadata": {
    "collapsed": false,
    "scrolled": true
   },
   "outputs": [
    {
     "data": {
      "image/png": "[encoded data removed]",
      "text/plain": [
       "<matplotlib.figure.Figure at 0x3e727748>"
      ]
     },
     "metadata": {},
     "output_type": "display_data"
    }
   ],
   "source": [
    "# plot the bar graph for top 20 occuring words  for full,pos ,neg dataset \n",
    "fig = plt.figure(figsize=(20,25))\n",
    "\n",
    "#fig = plt.figure(figsize=(15,8))\n",
    "wordsdict = {}\n",
    "wordsdict_pos = {}\n",
    "wordsdict_neg = {}\n",
    "# Pick top 10 words from sorted list \n",
    "for w,wpos,wneg in zip(word_list[0:20],word_list_pos[0:20] ,word_list_neg[0:20])  :\n",
    "# create a dictionary \n",
    "    wordsdict[w[0]] = w[1]\n",
    "   \n",
    "    wordsdict_pos[wpos[0]] = wpos[1]\n",
    "    \n",
    "    wordsdict_neg[wneg[0]] = wneg[1]\n",
    "\n",
    "ax1 = fig.add_subplot(311)   \n",
    "    \n",
    "# plot the graph\n",
    "#ax1.bar(range(len(wordsdict)), wordsdict.values(), align='center')\n",
    "ax1 = sns.barplot(range(len(wordsdict)), wordsdict.values())\n",
    "ax1.set_xticks(range(len(wordsdict)))\n",
    "ax1.set_xticklabels(wordsdict.keys(),rotation=45,alpha =1.0)\n",
    "ax1.set_title( \"Frequency of Top 20 words used\" ,alpha =5.0 ,fontsize = 20)\n",
    "\n",
    "ax2 = fig.add_subplot(312)   \n",
    "    \n",
    "# plot the graph\n",
    "ax2= sns.barplot(range(len(wordsdict_pos)), wordsdict_pos.values())\n",
    "ax2.set_xticks(range(len(wordsdict_pos)))\n",
    "ax2.set_xticklabels(wordsdict_pos.keys(),rotation=45,alpha =1.0)\n",
    "ax2.set_title( \"Frequency of Top high price 20 words used\",alpha =5.0 ,fontsize = 20)\n",
    "\n",
    "\n",
    "ax3 = fig.add_subplot(313)   \n",
    "    \n",
    "# plot the graph\n",
    "ax2= sns.barplot(range(len(wordsdict_neg)), wordsdict_neg.values())\n",
    "ax3.set_xticks(range(len(wordsdict_neg)))\n",
    "ax3.set_xticklabels(wordsdict_neg.keys(),rotation=45,alpha =1.0)\n",
    "ax3.set_title( \"Frequency of Top low price 20 words used\" ,alpha =5.0,fontsize = 20)\n",
    "\n",
    "plt.show()"
   ]
  },
  {
   "cell_type": "markdown",
   "metadata": {},
   "source": [
    "As it was seen with intial exploration with the counts that most of the words are present in both the classes same point can be seen from the above graph. If these words are deleted from the datset also then other set of most frequent dataset also overlaps."
   ]
  },
  {
   "cell_type": "markdown",
   "metadata": {},
   "source": [
    "#### Baseline Model"
   ]
  },
  {
   "cell_type": "markdown",
   "metadata": {},
   "source": [
    "Before creating a new model, we’ll build a baseline models as we did earlier: all high price, all low price, and random. We’ll use these baseline models to determine whether or not we can make predictions on the price category that beat our baselines."
   ]
  },
  {
   "cell_type": "code",
   "execution_count": 332,
   "metadata": {
    "collapsed": true
   },
   "outputs": [],
   "source": [
    "# No. of training points\n",
    "def sk_split(x,y):\n",
    "    n = len(x)\n",
    "    n_train = int(n * 2.0 / 3.0)\n",
    "\n",
    "# Random 2/3rd train, remaining test\n",
    "    perm = np.random.permutation(n)\n",
    "    y_train = y[perm[0:n_train]]\n",
    "    x_train = x[perm[0:n_train]]\n",
    "    y_test = y[perm[n_train:]]\n",
    "    x_test = x[perm[n_train:]]\n",
    "    return x_train , x_test ,y_train ,y_test"
   ]
  },
  {
   "cell_type": "code",
   "execution_count": 333,
   "metadata": {
    "collapsed": true
   },
   "outputs": [],
   "source": [
    "# Spilt the data \n",
    "x_train , x_test , y_train , y_test  =  sk_split(x,y)"
   ]
  },
  {
   "cell_type": "markdown",
   "metadata": {},
   "source": [
    "To assess the quality ofour model, we have  splitted  the data into a training set and a testing set, we define our model on the training set and use the testing set to test the accuracy of our predictions."
   ]
  },
  {
   "cell_type": "code",
   "execution_count": 37,
   "metadata": {
    "collapsed": true
   },
   "outputs": [],
   "source": [
    "#Function for computing the accuracy a given model on the entire test set, the accuracy on class 0 in the test set\n",
    "#and the accuracy on class 1\n",
    "score = lambda model, x_test, y_test: pd.Series([model.score(x_test, y_test), \n",
    "                                                 model.score(x_test[y_test==0], y_test[y_test==0]),\n",
    "                                                 model.score(x_test[y_test==1], y_test[y_test==1])],\n",
    "                                                index=['overall accuracy', 'accuracy on class 0', 'accuracy on class 1'])"
   ]
  },
  {
   "cell_type": "code",
   "execution_count": 38,
   "metadata": {
    "collapsed": true
   },
   "outputs": [],
   "source": [
    "#A model that labels everything 1\n",
    "class Pos_model(object):\n",
    "    def predict(self, x):\n",
    "        return np.array([1] * len(x))\n",
    "    def score(self, x, y):\n",
    "        y_pred = self.predict(x)\n",
    "        y_err = y - y_pred\n",
    "        return len(y_err[y_err == 0]) * 1. / len(y_err)\n",
    "    \n",
    "#A model that labels everything 0\n",
    "class Neg_model(object):\n",
    "    def predict(self, x):\n",
    "        return np.array([0] * len(x))\n",
    "    \n",
    "    def score(self, x, y):\n",
    "        y_pred = self.predict(x)\n",
    "        y_err = y - y_pred\n",
    "        return len(y_err[y_err == 0]) * 1. / len(y_err)\n",
    "\n",
    "\n",
    "#A model that randomly labels things\n",
    "class Random_model(object):\n",
    "    def predict(self, x):\n",
    "        return np.random.randint(0, 2, len(x))\n",
    "    \n",
    "    def score(self, x, y):\n",
    "        y_pred = self.predict(x)\n",
    "        y_err = y - y_pred\n",
    "        return len(y_err[y_err == 0]) * 1. / len(y_err)"
   ]
  },
  {
   "cell_type": "code",
   "execution_count": 39,
   "metadata": {
    "collapsed": false
   },
   "outputs": [],
   "source": [
    "# call all the base models\n",
    "pos_model = Pos_model()\n",
    "pos_model_scores = score(pos_model, x_test, y_test)\n",
    "\n",
    "neg_model = Neg_model()\n",
    "neg_model_scores = score(neg_model, x_test, y_test)\n",
    "\n",
    "random_model = Random_model()\n",
    "random_model_scores = score(random_model, x_test, y_test)"
   ]
  },
  {
   "cell_type": "code",
   "execution_count": 33,
   "metadata": {
    "collapsed": false
   },
   "outputs": [
    {
     "data": {
      "text/html": [
       "<div>\n",
       "<table border=\"1\" class=\"dataframe\">\n",
       "  <thead>\n",
       "    <tr style=\"text-align: right;\">\n",
       "      <th></th>\n",
       "      <th>neg model</th>\n",
       "      <th>pos model</th>\n",
       "      <th>random model</th>\n",
       "    </tr>\n",
       "  </thead>\n",
       "  <tbody>\n",
       "    <tr>\n",
       "      <th>overall accuracy</th>\n",
       "      <td>0.555078</td>\n",
       "      <td>0.444922</td>\n",
       "      <td>0.505915</td>\n",
       "    </tr>\n",
       "    <tr>\n",
       "      <th>accuracy on class 0</th>\n",
       "      <td>1.000000</td>\n",
       "      <td>0.000000</td>\n",
       "      <td>0.490728</td>\n",
       "    </tr>\n",
       "    <tr>\n",
       "      <th>accuracy on class 1</th>\n",
       "      <td>0.000000</td>\n",
       "      <td>1.000000</td>\n",
       "      <td>0.495511</td>\n",
       "    </tr>\n",
       "  </tbody>\n",
       "</table>\n",
       "</div>"
      ],
      "text/plain": [
       "                     neg model  pos model  random model\n",
       "overall accuracy      0.555078   0.444922      0.505915\n",
       "accuracy on class 0   1.000000   0.000000      0.490728\n",
       "accuracy on class 1   0.000000   1.000000      0.495511"
      ]
     },
     "execution_count": 33,
     "metadata": {},
     "output_type": "execute_result"
    }
   ],
   "source": [
    "#Score Dataframe\n",
    "score_df = pd.DataFrame({'pos model': pos_model_scores,\n",
    "                         'neg model': neg_model_scores,\n",
    "                         'random model': random_model_scores})\n",
    "score_df"
   ]
  },
  {
   "cell_type": "markdown",
   "metadata": {},
   "source": [
    "**Build an Improved Model**"
   ]
  },
  {
   "cell_type": "code",
   "execution_count": 40,
   "metadata": {
    "collapsed": false
   },
   "outputs": [
    {
     "data": {
      "text/html": [
       "<div>\n",
       "<table border=\"1\" class=\"dataframe\">\n",
       "  <thead>\n",
       "    <tr style=\"text-align: right;\">\n",
       "      <th></th>\n",
       "      <th>lda</th>\n",
       "      <th>qda</th>\n",
       "      <th>rf</th>\n",
       "      <th>svm</th>\n",
       "      <th>tree</th>\n",
       "      <th>unweighted logistic</th>\n",
       "      <th>weighted logistic</th>\n",
       "      <th>weighted rf</th>\n",
       "      <th>weighted svm</th>\n",
       "    </tr>\n",
       "  </thead>\n",
       "  <tbody>\n",
       "    <tr>\n",
       "      <th>overall accuracy</th>\n",
       "      <td>0.705638</td>\n",
       "      <td>0.495007</td>\n",
       "      <td>0.674604</td>\n",
       "      <td>0.712398</td>\n",
       "      <td>0.650945</td>\n",
       "      <td>0.714856</td>\n",
       "      <td>0.709940</td>\n",
       "      <td>0.678138</td>\n",
       "      <td>0.705485</td>\n",
       "    </tr>\n",
       "    <tr>\n",
       "      <th>accuracy on class 0</th>\n",
       "      <td>0.719505</td>\n",
       "      <td>0.184935</td>\n",
       "      <td>0.734401</td>\n",
       "      <td>0.694491</td>\n",
       "      <td>0.498595</td>\n",
       "      <td>0.729904</td>\n",
       "      <td>0.665261</td>\n",
       "      <td>0.727375</td>\n",
       "      <td>0.624789</td>\n",
       "    </tr>\n",
       "    <tr>\n",
       "      <th>accuracy on class 1</th>\n",
       "      <td>0.688919</td>\n",
       "      <td>0.868858</td>\n",
       "      <td>0.602508</td>\n",
       "      <td>0.733988</td>\n",
       "      <td>0.834632</td>\n",
       "      <td>0.696713</td>\n",
       "      <td>0.763809</td>\n",
       "      <td>0.618773</td>\n",
       "      <td>0.802779</td>\n",
       "    </tr>\n",
       "  </tbody>\n",
       "</table>\n",
       "</div>"
      ],
      "text/plain": [
       "                          lda       qda        rf       svm      tree  \\\n",
       "overall accuracy     0.705638  0.495007  0.674604  0.712398  0.650945   \n",
       "accuracy on class 0  0.719505  0.184935  0.734401  0.694491  0.498595   \n",
       "accuracy on class 1  0.688919  0.868858  0.602508  0.733988  0.834632   \n",
       "\n",
       "                     unweighted logistic  weighted logistic  weighted rf  \\\n",
       "overall accuracy                0.714856           0.709940     0.678138   \n",
       "accuracy on class 0             0.729904           0.665261     0.727375   \n",
       "accuracy on class 1             0.696713           0.763809     0.618773   \n",
       "\n",
       "                     weighted svm  \n",
       "overall accuracy         0.705485  \n",
       "accuracy on class 0      0.624789  \n",
       "accuracy on class 1      0.802779  "
      ]
     },
     "execution_count": 40,
     "metadata": {},
     "output_type": "execute_result"
    }
   ],
   "source": [
    "#Check all the classifiers to see which one is good\n",
    "#Unweighted logistic regression\n",
    "unweighted_logistic = LogReg()\n",
    "unweighted_logistic.fit(x_train, y_train)\n",
    "\n",
    "unweighted_log_scores = score(unweighted_logistic, x_test, y_test)\n",
    "\n",
    "\n",
    "\n",
    "#Weighted logistic regression\n",
    "weighted_logistic = LogReg(class_weight='balanced')\n",
    "weighted_logistic.fit(x_train, y_train)\n",
    "\n",
    "weighted_log_scores = score(weighted_logistic, x_test, y_test)\n",
    "\n",
    "\n",
    "#LDA\n",
    "lda = LDA()\n",
    "lda.fit(x_train, y_train)\n",
    "\n",
    "lda_scores = score(lda, x_test, y_test)\n",
    "\n",
    "\n",
    "#QDA\n",
    "qda = QDA()\n",
    "qda.fit(x_train, y_train)\n",
    "\n",
    "qda_scores = score(qda, x_test, y_test)\n",
    "\n",
    "\n",
    "#Decision Tree\n",
    "tree = DecisionTree(max_depth=6)\n",
    "tree.fit(x_train, y_train)\n",
    "\n",
    "tree_scores = score(tree, x_test, y_test)\n",
    "\n",
    "\n",
    "\n",
    "#Random Forest\n",
    "rf = RandomForestClassifier()\n",
    "rf.fit(x_train, y_train)\n",
    "rf_scores = score(rf, x_test, y_test)\n",
    "\n",
    "\n",
    "rf_wt = RandomForestClassifier(class_weight='balanced')\n",
    "rf_wt.fit(x_train, y_train)\n",
    "rf_wt_scores = score(rf_wt, x_test, y_test)\n",
    "\n",
    "\n",
    "#SVM\n",
    "clfsvm = SVC(kernel ='linear')\n",
    "clfsvm.fit(x_train, y_train)\n",
    "svm_scores = score(clfsvm, x_test, y_test)\n",
    "\n",
    "clfsvm_wt = SVC(kernel ='linear',class_weight='balanced')\n",
    "clfsvm_wt.fit(x_train, y_train)\n",
    "svmwt_scores = score(clfsvm_wt, x_test, y_test)\n",
    "\n",
    "\n",
    "#Score Dataframe\n",
    "score_df = pd.DataFrame({#'knn': knn_scores, \n",
    "                         'unweighted logistic': unweighted_log_scores,\n",
    "                         'weighted logistic': weighted_log_scores,\n",
    "                         'lda': lda_scores,\n",
    "                         'qda': qda_scores,\n",
    "                         'tree': tree_scores,\n",
    "                         'rf': rf_scores,\n",
    "                          'weighted rf': rf_wt_scores,\n",
    "                         'svm': svm_scores,\n",
    "                         'weighted svm':svmwt_scores\n",
    "                         })\n",
    "score_df"
   ]
  },
  {
   "cell_type": "markdown",
   "metadata": {},
   "source": [
    "After converting our posts into numerical arrays, we trained different classifier  models using our data. From above we can see that logistic and SVM has done better than other models . The performance of SVM is slightly better than logistic model so lets tune the  SVM model and see the performance.\n",
    "\n"
   ]
  },
  {
   "cell_type": "markdown",
   "metadata": {},
   "source": [
    "Cross Validation\n",
    "The SVM classifier  accepts a C hyperparameter as argument. This parameter quantifies the regularization strength. To find a good value, we can perform a grid search with the GridSearchCV class. It takes as input an estimator, and a dictionary of parameter values. This new estimator uses cross-validation to select the best parameter."
   ]
  },
  {
   "cell_type": "code",
   "execution_count": 41,
   "metadata": {
    "collapsed": false
   },
   "outputs": [
    {
     "data": {
      "text/plain": [
       "{'C': 0.6}"
      ]
     },
     "execution_count": 41,
     "metadata": {},
     "output_type": "execute_result"
    }
   ],
   "source": [
    "# Tune the parmaters  \n",
    "clfSVM = SVC(kernel = 'linear')\n",
    "param_grid = {'C':[0.5,0.6,0.7,0.8,0.9,1.0]}\n",
    "gridSvc = gs.GridSearchCV(clfSVM, param_grid=param_grid,n_jobs=10)\n",
    "gridSvc.fit(x,y);\n",
    "gridSvc.best_params_"
   ]
  },
  {
   "cell_type": "code",
   "execution_count": 319,
   "metadata": {
    "collapsed": false
   },
   "outputs": [
    {
     "name": "stdout",
     "output_type": "stream",
     "text": [
      "[ 0.70576037  0.70730583  0.70792992]\n",
      "0.706998707041\n"
     ]
    }
   ],
   "source": [
    "#cv.cross_val_score(grid.best_estimator_, X, y)\n",
    "scores = cross_val_score( clfSVM, x_train, y_train)\n",
    "print  scores \n",
    "print  scores.mean()\n",
    "    "
   ]
  },
  {
   "cell_type": "code",
   "execution_count": 334,
   "metadata": {
    "collapsed": false,
    "scrolled": true
   },
   "outputs": [
    {
     "name": "stdout",
     "output_type": "stream",
     "text": [
      "Train Score: 0.749250979488\n",
      "Test Score: 0.712090950991\n",
      "Test Score for Class 0: 0.686137506987\n",
      "Test Score for Class 1: 0.743773456158\n"
     ]
    }
   ],
   "source": [
    "# Run the best estimator to  check score on test and train \n",
    "clfSVM = SVC(kernel = 'linear',C=0.6)\n",
    "clfSVM.fit(x_train, y_train)\n",
    "# score on test and train\n",
    "score_train = clfSVM.score(x_train,y_train)\n",
    "Score_test = clfSVM.score(x_test,y_test)\n",
    "Score_test_0 = clfSVM.score(x_test[y_test==0], y_test[y_test==0])\n",
    "Score_test_1 = clfSVM.score(x_test[y_test==1], y_test[y_test==1])\n",
    "\n",
    "# Print the Scores\n",
    "print \"Train Score:\",score_train\n",
    "print \"Test Score:\",Score_test\n",
    "print \"Test Score for Class 0:\", Score_test_0\n",
    "print \"Test Score for Class 1:\", Score_test_1\n"
   ]
  },
  {
   "cell_type": "code",
   "execution_count": 335,
   "metadata": {
    "collapsed": false,
    "scrolled": true
   },
   "outputs": [
    {
     "name": "stdout",
     "output_type": "stream",
     "text": [
      "\n",
      "Associated with High  Income:\n",
      "\n",
      "bowl\n",
      "famous\n",
      "mayor\n",
      "superbowl\n",
      "girls\n",
      "museums\n",
      "happy\n",
      "nolita\n",
      "chelsea\n",
      "penn\n",
      "designer\n",
      "quality\n",
      "terrace\n",
      "junior\n",
      "lofty\n",
      "rate\n",
      "village\n",
      "elev\n",
      "gramercy\n",
      "noho\n",
      "amenities\n",
      "years\n",
      "side\n",
      "hotel\n",
      "neat\n",
      "executive\n",
      "deluxe\n",
      "december\n",
      "ues\n",
      "sanctuary\n",
      "\n",
      "Associated with Low Income:\n",
      "\n",
      "nu\n",
      "lga\n",
      "mins\n",
      "castle\n",
      "come\n",
      "stuy\n",
      "breakfast\n",
      "train\n",
      "room\n",
      "subway\n",
      "minutes\n",
      "affordable\n",
      "secret\n",
      "share\n",
      "de\n",
      "budget\n",
      "min\n",
      "bedstuy\n",
      "soha\n",
      "deal\n",
      "brooklyn\n",
      "relax\n",
      "privateroom\n",
      "metro\n",
      "ppl\n",
      "queen\n",
      "columbia\n",
      "aug\n",
      "gardens\n",
      "hidden\n"
     ]
    }
   ],
   "source": [
    "# find the top 50 nad Low 50 coefficents \n",
    "top = np.argmax(clfSVM.coef_)\n",
    "bot = np.argmin(clfSVM.coef_)\n",
    "coef = clfSVM.coef_.T\n",
    "# Pick top 50 and low 50 in thhe sorted list\n",
    "top50 = heapq.nlargest(30, range(len(coef)), coef.take)\n",
    "bot50 = heapq.nsmallest(30, range(len(coef)), coef.take)\n",
    "#append the features names in list and print the list\n",
    "top = []\n",
    "bot = []\n",
    "print \"\\nAssociated with High  Income:\\n\"\n",
    "for each in top50:\n",
    "    top.append(feature_name[each]) \n",
    "    print feature_name[each]\n",
    "print \"\\nAssociated with Low Income:\\n\"\n",
    "for each in bot50:\n",
    "    bot.append(feature_name[each])\n",
    "    print feature_name[each]"
   ]
  },
  {
   "cell_type": "code",
   "execution_count": 336,
   "metadata": {
    "collapsed": false
   },
   "outputs": [
    {
     "data": {
      "image/png": "[encoded data removed]",
      "text/plain": [
       "<matplotlib.figure.Figure at 0x222b3a20>"
      ]
     },
     "metadata": {},
     "output_type": "display_data"
    }
   ],
   "source": [
    "#plot the graph of 20 features in high and low income class\n",
    "top_features =20\n",
    "top_coefficients = np.hstack([bot50[:20], top50[:20]])\n",
    "feature_list=[]\n",
    "for each in top_coefficients:\n",
    "    feature_list.append(feature_name[each]) \n",
    "  \n",
    " # create plot\n",
    "plt.figure(figsize=(15, 5))\n",
    "colors = ['red' if c < 0 else 'blue' for c in coef[top_coefficients]]\n",
    "plt.bar(np.arange(2 * top_features), coef[top_coefficients], color=colors)\n",
    "\n",
    "plt.xticks(np.arange(1, 1 + 2 * top_features),feature_list,rotation =60)\n",
    "#plt.xticklabels(feature_list , rotation=60, ha='right')\n",
    "#plt.xticks( feature_list , rotation=60, ha='right')\n",
    "plt.title(\" Top 20 important features in High and Low Category\",alpha=5.0 ,fontsize = 20 )\n",
    "plt.show()"
   ]
  },
  {
   "cell_type": "code",
   "execution_count": 269,
   "metadata": {
    "collapsed": false
   },
   "outputs": [
    {
     "data": {
      "text/html": [
       "<div>\n",
       "<table border=\"1\" class=\"dataframe\">\n",
       "  <thead>\n",
       "    <tr style=\"text-align: right;\">\n",
       "      <th></th>\n",
       "      <th>word</th>\n",
       "      <th>count</th>\n",
       "    </tr>\n",
       "  </thead>\n",
       "  <tbody>\n",
       "    <tr>\n",
       "      <th>0</th>\n",
       "      <td>bowl</td>\n",
       "      <td>7</td>\n",
       "    </tr>\n",
       "    <tr>\n",
       "      <th>1</th>\n",
       "      <td>mayor</td>\n",
       "      <td>8</td>\n",
       "    </tr>\n",
       "    <tr>\n",
       "      <th>2</th>\n",
       "      <td>superbowl</td>\n",
       "      <td>4</td>\n",
       "    </tr>\n",
       "    <tr>\n",
       "      <th>3</th>\n",
       "      <td>nolita</td>\n",
       "      <td>21</td>\n",
       "    </tr>\n",
       "    <tr>\n",
       "      <th>4</th>\n",
       "      <td>chelsea</td>\n",
       "      <td>8</td>\n",
       "    </tr>\n",
       "    <tr>\n",
       "      <th>5</th>\n",
       "      <td>famous</td>\n",
       "      <td>27</td>\n",
       "    </tr>\n",
       "    <tr>\n",
       "      <th>6</th>\n",
       "      <td>us</td>\n",
       "      <td>14</td>\n",
       "    </tr>\n",
       "    <tr>\n",
       "      <th>7</th>\n",
       "      <td>uppereastside</td>\n",
       "      <td>218</td>\n",
       "    </tr>\n",
       "    <tr>\n",
       "      <th>8</th>\n",
       "      <td>church</td>\n",
       "      <td>13</td>\n",
       "    </tr>\n",
       "    <tr>\n",
       "      <th>9</th>\n",
       "      <td>amenities</td>\n",
       "      <td>10</td>\n",
       "    </tr>\n",
       "    <tr>\n",
       "      <th>10</th>\n",
       "      <td>visit</td>\n",
       "      <td>2220</td>\n",
       "    </tr>\n",
       "    <tr>\n",
       "      <th>11</th>\n",
       "      <td>neat</td>\n",
       "      <td>7</td>\n",
       "    </tr>\n",
       "    <tr>\n",
       "      <th>12</th>\n",
       "      <td>notorious</td>\n",
       "      <td>41</td>\n",
       "    </tr>\n",
       "    <tr>\n",
       "      <th>13</th>\n",
       "      <td>timesq</td>\n",
       "      <td>29</td>\n",
       "    </tr>\n",
       "    <tr>\n",
       "      <th>14</th>\n",
       "      <td>executive</td>\n",
       "      <td>66</td>\n",
       "    </tr>\n",
       "    <tr>\n",
       "      <th>15</th>\n",
       "      <td>celebrate</td>\n",
       "      <td>5</td>\n",
       "    </tr>\n",
       "    <tr>\n",
       "      <th>16</th>\n",
       "      <td>quality</td>\n",
       "      <td>10</td>\n",
       "    </tr>\n",
       "    <tr>\n",
       "      <th>17</th>\n",
       "      <td>service</td>\n",
       "      <td>25</td>\n",
       "    </tr>\n",
       "    <tr>\n",
       "      <th>18</th>\n",
       "      <td>tribeca</td>\n",
       "      <td>6</td>\n",
       "    </tr>\n",
       "    <tr>\n",
       "      <th>19</th>\n",
       "      <td>village</td>\n",
       "      <td>7</td>\n",
       "    </tr>\n",
       "    <tr>\n",
       "      <th>20</th>\n",
       "      <td>triplex</td>\n",
       "      <td>6</td>\n",
       "    </tr>\n",
       "    <tr>\n",
       "      <th>21</th>\n",
       "      <td>side</td>\n",
       "      <td>13</td>\n",
       "    </tr>\n",
       "    <tr>\n",
       "      <th>22</th>\n",
       "      <td>square</td>\n",
       "      <td>29</td>\n",
       "    </tr>\n",
       "    <tr>\n",
       "      <th>23</th>\n",
       "      <td>ues</td>\n",
       "      <td>53</td>\n",
       "    </tr>\n",
       "    <tr>\n",
       "      <th>24</th>\n",
       "      <td>charmer</td>\n",
       "      <td>20</td>\n",
       "    </tr>\n",
       "    <tr>\n",
       "      <th>25</th>\n",
       "      <td>dist</td>\n",
       "      <td>17</td>\n",
       "    </tr>\n",
       "    <tr>\n",
       "      <th>26</th>\n",
       "      <td>luxurious</td>\n",
       "      <td>50</td>\n",
       "    </tr>\n",
       "    <tr>\n",
       "      <th>27</th>\n",
       "      <td>apartm</td>\n",
       "      <td>6</td>\n",
       "    </tr>\n",
       "    <tr>\n",
       "      <th>28</th>\n",
       "      <td>museums</td>\n",
       "      <td>41</td>\n",
       "    </tr>\n",
       "    <tr>\n",
       "      <th>29</th>\n",
       "      <td>last</td>\n",
       "      <td>102</td>\n",
       "    </tr>\n",
       "    <tr>\n",
       "      <th>30</th>\n",
       "      <td>grand</td>\n",
       "      <td>126</td>\n",
       "    </tr>\n",
       "    <tr>\n",
       "      <th>31</th>\n",
       "      <td>yorker</td>\n",
       "      <td>35</td>\n",
       "    </tr>\n",
       "    <tr>\n",
       "      <th>32</th>\n",
       "      <td>weekend</td>\n",
       "      <td>5</td>\n",
       "    </tr>\n",
       "    <tr>\n",
       "      <th>33</th>\n",
       "      <td>wv</td>\n",
       "      <td>7</td>\n",
       "    </tr>\n",
       "    <tr>\n",
       "      <th>34</th>\n",
       "      <td>gramercy</td>\n",
       "      <td>7</td>\n",
       "    </tr>\n",
       "    <tr>\n",
       "      <th>35</th>\n",
       "      <td>district</td>\n",
       "      <td>85</td>\n",
       "    </tr>\n",
       "    <tr>\n",
       "      <th>36</th>\n",
       "      <td>terrace</td>\n",
       "      <td>8</td>\n",
       "    </tr>\n",
       "    <tr>\n",
       "      <th>37</th>\n",
       "      <td>perfectly</td>\n",
       "      <td>544</td>\n",
       "    </tr>\n",
       "    <tr>\n",
       "      <th>38</th>\n",
       "      <td>uws</td>\n",
       "      <td>24</td>\n",
       "    </tr>\n",
       "    <tr>\n",
       "      <th>39</th>\n",
       "      <td>years</td>\n",
       "      <td>280</td>\n",
       "    </tr>\n",
       "    <tr>\n",
       "      <th>40</th>\n",
       "      <td>mid</td>\n",
       "      <td>39</td>\n",
       "    </tr>\n",
       "    <tr>\n",
       "      <th>41</th>\n",
       "      <td>luxury</td>\n",
       "      <td>9</td>\n",
       "    </tr>\n",
       "    <tr>\n",
       "      <th>42</th>\n",
       "      <td>blk</td>\n",
       "      <td>25</td>\n",
       "    </tr>\n",
       "    <tr>\n",
       "      <th>43</th>\n",
       "      <td>railroad</td>\n",
       "      <td>1414</td>\n",
       "    </tr>\n",
       "    <tr>\n",
       "      <th>44</th>\n",
       "      <td>met</td>\n",
       "      <td>10</td>\n",
       "    </tr>\n",
       "    <tr>\n",
       "      <th>45</th>\n",
       "      <td>junior</td>\n",
       "      <td>18</td>\n",
       "    </tr>\n",
       "    <tr>\n",
       "      <th>46</th>\n",
       "      <td>gem</td>\n",
       "      <td>5</td>\n",
       "    </tr>\n",
       "    <tr>\n",
       "      <th>47</th>\n",
       "      <td>designer</td>\n",
       "      <td>155</td>\n",
       "    </tr>\n",
       "    <tr>\n",
       "      <th>48</th>\n",
       "      <td>quintessential</td>\n",
       "      <td>102</td>\n",
       "    </tr>\n",
       "    <tr>\n",
       "      <th>49</th>\n",
       "      <td>street</td>\n",
       "      <td>4</td>\n",
       "    </tr>\n",
       "  </tbody>\n",
       "</table>\n",
       "</div>"
      ],
      "text/plain": [
       "              word  count\n",
       "0             bowl      7\n",
       "1            mayor      8\n",
       "2        superbowl      4\n",
       "3           nolita     21\n",
       "4          chelsea      8\n",
       "5           famous     27\n",
       "6               us     14\n",
       "7    uppereastside    218\n",
       "8           church     13\n",
       "9        amenities     10\n",
       "10           visit   2220\n",
       "11            neat      7\n",
       "12       notorious     41\n",
       "13          timesq     29\n",
       "14       executive     66\n",
       "15       celebrate      5\n",
       "16         quality     10\n",
       "17         service     25\n",
       "18         tribeca      6\n",
       "19         village      7\n",
       "20         triplex      6\n",
       "21            side     13\n",
       "22          square     29\n",
       "23             ues     53\n",
       "24         charmer     20\n",
       "25            dist     17\n",
       "26       luxurious     50\n",
       "27          apartm      6\n",
       "28         museums     41\n",
       "29            last    102\n",
       "30           grand    126\n",
       "31          yorker     35\n",
       "32         weekend      5\n",
       "33              wv      7\n",
       "34        gramercy      7\n",
       "35        district     85\n",
       "36         terrace      8\n",
       "37       perfectly    544\n",
       "38             uws     24\n",
       "39           years    280\n",
       "40             mid     39\n",
       "41          luxury      9\n",
       "42             blk     25\n",
       "43        railroad   1414\n",
       "44             met     10\n",
       "45          junior     18\n",
       "46             gem      5\n",
       "47        designer    155\n",
       "48  quintessential    102\n",
       "49          street      4"
      ]
     },
     "execution_count": 269,
     "metadata": {},
     "output_type": "execute_result"
    }
   ],
   "source": [
    "# See the Count how many times the top 50 words occured in the high income list\n",
    "df_high = df_list(x_pos, top)\n",
    "\n",
    "df_high"
   ]
  },
  {
   "cell_type": "code",
   "execution_count": 337,
   "metadata": {
    "collapsed": false
   },
   "outputs": [
    {
     "data": {
      "text/html": [
       "<div>\n",
       "<table border=\"1\" class=\"dataframe\">\n",
       "  <thead>\n",
       "    <tr style=\"text-align: right;\">\n",
       "      <th></th>\n",
       "      <th>word</th>\n",
       "      <th>count</th>\n",
       "    </tr>\n",
       "  </thead>\n",
       "  <tbody>\n",
       "    <tr>\n",
       "      <th>0</th>\n",
       "      <td>nu</td>\n",
       "      <td>14</td>\n",
       "    </tr>\n",
       "    <tr>\n",
       "      <th>1</th>\n",
       "      <td>lga</td>\n",
       "      <td>12</td>\n",
       "    </tr>\n",
       "    <tr>\n",
       "      <th>2</th>\n",
       "      <td>mins</td>\n",
       "      <td>22</td>\n",
       "    </tr>\n",
       "    <tr>\n",
       "      <th>3</th>\n",
       "      <td>castle</td>\n",
       "      <td>11</td>\n",
       "    </tr>\n",
       "    <tr>\n",
       "      <th>4</th>\n",
       "      <td>come</td>\n",
       "      <td>15</td>\n",
       "    </tr>\n",
       "    <tr>\n",
       "      <th>5</th>\n",
       "      <td>stuy</td>\n",
       "      <td>41</td>\n",
       "    </tr>\n",
       "    <tr>\n",
       "      <th>6</th>\n",
       "      <td>breakfast</td>\n",
       "      <td>12</td>\n",
       "    </tr>\n",
       "    <tr>\n",
       "      <th>7</th>\n",
       "      <td>train</td>\n",
       "      <td>36</td>\n",
       "    </tr>\n",
       "    <tr>\n",
       "      <th>8</th>\n",
       "      <td>room</td>\n",
       "      <td>7</td>\n",
       "    </tr>\n",
       "    <tr>\n",
       "      <th>9</th>\n",
       "      <td>subway</td>\n",
       "      <td>190</td>\n",
       "    </tr>\n",
       "    <tr>\n",
       "      <th>10</th>\n",
       "      <td>minutes</td>\n",
       "      <td>4</td>\n",
       "    </tr>\n",
       "    <tr>\n",
       "      <th>11</th>\n",
       "      <td>affordable</td>\n",
       "      <td>4</td>\n",
       "    </tr>\n",
       "    <tr>\n",
       "      <th>12</th>\n",
       "      <td>secret</td>\n",
       "      <td>7</td>\n",
       "    </tr>\n",
       "    <tr>\n",
       "      <th>13</th>\n",
       "      <td>share</td>\n",
       "      <td>1636</td>\n",
       "    </tr>\n",
       "    <tr>\n",
       "      <th>14</th>\n",
       "      <td>de</td>\n",
       "      <td>7</td>\n",
       "    </tr>\n",
       "    <tr>\n",
       "      <th>15</th>\n",
       "      <td>budget</td>\n",
       "      <td>70</td>\n",
       "    </tr>\n",
       "    <tr>\n",
       "      <th>16</th>\n",
       "      <td>min</td>\n",
       "      <td>23</td>\n",
       "    </tr>\n",
       "    <tr>\n",
       "      <th>17</th>\n",
       "      <td>bedstuy</td>\n",
       "      <td>133</td>\n",
       "    </tr>\n",
       "    <tr>\n",
       "      <th>18</th>\n",
       "      <td>soha</td>\n",
       "      <td>13</td>\n",
       "    </tr>\n",
       "    <tr>\n",
       "      <th>19</th>\n",
       "      <td>deal</td>\n",
       "      <td>30</td>\n",
       "    </tr>\n",
       "    <tr>\n",
       "      <th>20</th>\n",
       "      <td>brooklyn</td>\n",
       "      <td>57</td>\n",
       "    </tr>\n",
       "    <tr>\n",
       "      <th>21</th>\n",
       "      <td>relax</td>\n",
       "      <td>10</td>\n",
       "    </tr>\n",
       "    <tr>\n",
       "      <th>22</th>\n",
       "      <td>privateroom</td>\n",
       "      <td>10</td>\n",
       "    </tr>\n",
       "    <tr>\n",
       "      <th>23</th>\n",
       "      <td>metro</td>\n",
       "      <td>6</td>\n",
       "    </tr>\n",
       "    <tr>\n",
       "      <th>24</th>\n",
       "      <td>ppl</td>\n",
       "      <td>7</td>\n",
       "    </tr>\n",
       "    <tr>\n",
       "      <th>25</th>\n",
       "      <td>queen</td>\n",
       "      <td>4</td>\n",
       "    </tr>\n",
       "    <tr>\n",
       "      <th>26</th>\n",
       "      <td>columbia</td>\n",
       "      <td>10</td>\n",
       "    </tr>\n",
       "    <tr>\n",
       "      <th>27</th>\n",
       "      <td>aug</td>\n",
       "      <td>5</td>\n",
       "    </tr>\n",
       "    <tr>\n",
       "      <th>28</th>\n",
       "      <td>gardens</td>\n",
       "      <td>22</td>\n",
       "    </tr>\n",
       "    <tr>\n",
       "      <th>29</th>\n",
       "      <td>hidden</td>\n",
       "      <td>127</td>\n",
       "    </tr>\n",
       "  </tbody>\n",
       "</table>\n",
       "</div>"
      ],
      "text/plain": [
       "           word  count\n",
       "0            nu     14\n",
       "1           lga     12\n",
       "2          mins     22\n",
       "3        castle     11\n",
       "4          come     15\n",
       "5          stuy     41\n",
       "6     breakfast     12\n",
       "7         train     36\n",
       "8          room      7\n",
       "9        subway    190\n",
       "10      minutes      4\n",
       "11   affordable      4\n",
       "12       secret      7\n",
       "13        share   1636\n",
       "14           de      7\n",
       "15       budget     70\n",
       "16          min     23\n",
       "17      bedstuy    133\n",
       "18         soha     13\n",
       "19         deal     30\n",
       "20     brooklyn     57\n",
       "21        relax     10\n",
       "22  privateroom     10\n",
       "23        metro      6\n",
       "24          ppl      7\n",
       "25        queen      4\n",
       "26     columbia     10\n",
       "27          aug      5\n",
       "28      gardens     22\n",
       "29       hidden    127"
      ]
     },
     "execution_count": 337,
     "metadata": {},
     "output_type": "execute_result"
    }
   ],
   "source": [
    "# See the Count how many times the bot 50 words occured in the low income list\n",
    "df_low= df_list(x_neg, bot)\n",
    "\n",
    "df_low"
   ]
  },
  {
   "cell_type": "code",
   "execution_count": 340,
   "metadata": {
    "collapsed": false
   },
   "outputs": [
    {
     "data": {
      "image/png": "[encoded data removed]",
      "text/plain": [
       "<matplotlib.figure.Figure at 0x1beeae48>"
      ]
     },
     "metadata": {},
     "output_type": "display_data"
    }
   ],
   "source": [
    "# Genearte Word cloud for high income \n",
    "#Get the text document\n",
    "text = \" \".join([each for each in top])\n",
    "#Open the arrow image \n",
    "\n",
    "img_mask =  mpimg.imread(\"up_arrow.gif\")\n",
    "#Mask it with data\n",
    "wordcloud = WordCloud(mask=img_mask,background_color=\"white\").generate(text)\n",
    "\n",
    "# Show the Word cloud \n",
    "plt.imshow(wordcloud)\n",
    "plt.axis('off')\n",
    "plt.title('Top 50 words for low income',alpha =5.0,fontsize = 10 )\n",
    "plt.show()"
   ]
  },
  {
   "cell_type": "code",
   "execution_count": 339,
   "metadata": {
    "collapsed": false
   },
   "outputs": [
    {
     "data": {
      "image/png": "[encoded data removed]",
      "text/plain": [
       "<matplotlib.figure.Figure at 0x22700668>"
      ]
     },
     "metadata": {},
     "output_type": "display_data"
    }
   ],
   "source": [
    "# Genearte Word cloud for low income \n",
    "#Get the text document\n",
    "text_bot = \" \".join([each for each in bot])\n",
    "#Open the arrow image \n",
    "\n",
    "img_mask =  mpimg.imread(\"down_arrow.gif\")\n",
    "#Mask it with data\n",
    "wordcloud = WordCloud(mask=img_mask,background_color=\"white\").generate(text_bot)\n",
    "# Show the Word cloud \n",
    "plt.imshow(wordcloud)\n",
    "plt.axis('off')\n",
    "plt.title('Top 50 words for low income',alpha =5.0,fontsize = 10 )\n",
    "plt.show()"
   ]
  },
  {
   "cell_type": "markdown",
   "metadata": {
    "collapsed": true
   },
   "source": [
    "I pulled off the words that my model showed were the most indicative of a high or low listing --i.e. the terms that had the strongest indication of whether a listing  would be high or low. These terms are listed above. Among the 50 high listing indicating terms,  I found generally high listing words in the English langauge like deluxe, grand, luxurious, executive, famous, quintessential. But I also found words more specific to the high listing ameneties: pool, baths, hotels and hi(hi-rise ,hi tech) and also the nearby location  to chelsea ,superbowl, nolita ,square (Time square), village(east),Carnegie Hill.  From these, we can infer that location nearby to famous area with ameneties like pool, bath  are listed with high price. \n",
    "\n",
    "Moreover, for low listing we can see the words like privateroom ,budget,deal,share which tend towards low price listing . Locations like lga ,soha ,brooklyn to any metro station ,subway ,train  are listed as low pricing. E Amenties like breakfast , room has been listed.\n"
   ]
  },
  {
   "cell_type": "code",
   "execution_count": null,
   "metadata": {
    "collapsed": true
   },
   "outputs": [],
   "source": []
  }
 ],
 "metadata": {
  "anaconda-cloud": {},
  "kernelspec": {
   "display_name": "Python [conda root]",
   "language": "python",
   "name": "conda-root-py"
  },
  "language_info": {
   "codemirror_mode": {
    "name": "ipython",
    "version": 2
   },
   "file_extension": ".py",
   "mimetype": "text/x-python",
   "name": "python",
   "nbconvert_exporter": "python",
   "pygments_lexer": "ipython2",
   "version": "2.7.12"
  },
  "nbpresent": {
   "slides": {
    "07eab611-d137-4a40-a1a9-63f35002630e": {
     "id": "07eab611-d137-4a40-a1a9-63f35002630e",
     "prev": "4f208bb3-6e39-445f-ad0f-825572264acf",
     "regions": {
      "25db14dd-17a3-44bd-b489-851242b99001": {
       "attrs": {
        "height": 0.8,
        "width": 0.8,
        "x": 0.1,
        "y": 0.1
       },
       "content": {
        "cell": "92d9191e-cc14-45ab-a14c-6230d3a7698e",
        "part": "whole"
       },
       "id": "25db14dd-17a3-44bd-b489-851242b99001"
      }
     }
    },
    "283e303d-3c3a-4356-8ca5-d235073bc0f4": {
     "id": "283e303d-3c3a-4356-8ca5-d235073bc0f4",
     "prev": "c8358161-225f-49ec-a9da-341f0e56386f",
     "regions": {
      "d91a85c2-65fa-47d7-8286-42c69f69da56": {
       "attrs": {
        "height": 0.8,
        "width": 0.8,
        "x": 0.1,
        "y": 0.1
       },
       "content": {
        "cell": "283401ca-88f7-44f8-9b11-a5881db97806",
        "part": "whole"
       },
       "id": "d91a85c2-65fa-47d7-8286-42c69f69da56"
      }
     }
    },
    "2bb40302-177a-44bb-bfba-cc0243fdd13c": {
     "id": "2bb40302-177a-44bb-bfba-cc0243fdd13c",
     "prev": "46fd22c1-7be4-46b1-bcb3-579111db00ab",
     "regions": {
      "274a34ea-407c-43a5-ab7c-40df4ff75f68": {
       "attrs": {
        "height": 0.8,
        "width": 0.8,
        "x": 0.1,
        "y": 0.1
       },
       "content": {
        "cell": "2897d85f-47a2-4354-a82a-85e8ecada0b9",
        "part": "whole"
       },
       "id": "274a34ea-407c-43a5-ab7c-40df4ff75f68"
      }
     }
    },
    "3461813e-005a-4d95-ae4b-fb5d81a0fb21": {
     "id": "3461813e-005a-4d95-ae4b-fb5d81a0fb21",
     "prev": "485ba65e-d3d6-4095-8a7d-8a443dc1f873",
     "regions": {
      "39c90127-d2c8-4e86-bc87-34f3b1801a50": {
       "attrs": {
        "height": 0.8,
        "width": 0.8,
        "x": 0.1,
        "y": 0.1
       },
       "content": {
        "cell": "a885e95a-55e6-4fdc-9545-34449596e5e0",
        "part": "whole"
       },
       "id": "39c90127-d2c8-4e86-bc87-34f3b1801a50"
      }
     }
    },
    "386a8b0d-4206-459c-80ff-865a12124370": {
     "id": "386a8b0d-4206-459c-80ff-865a12124370",
     "prev": "55c32566-5f5b-4ddf-bda6-8eda78d2dc6d",
     "regions": {
      "1d94d5ef-b4d0-461e-82f8-5d4a0ea860ec": {
       "attrs": {
        "height": 0.8,
        "width": 0.8,
        "x": 0.1,
        "y": 0.1
       },
       "content": {
        "cell": "4602421e-dd03-423c-9a5e-b84cf8d2690a",
        "part": "whole"
       },
       "id": "1d94d5ef-b4d0-461e-82f8-5d4a0ea860ec"
      }
     }
    },
    "3ebbb9a2-583d-4375-ad89-499434873441": {
     "id": "3ebbb9a2-583d-4375-ad89-499434873441",
     "prev": "386a8b0d-4206-459c-80ff-865a12124370",
     "regions": {
      "765cfe32-19fb-483d-9928-79c09061d6ba": {
       "attrs": {
        "height": 0.8,
        "width": 0.8,
        "x": 0.1,
        "y": 0.1
       },
       "content": {
        "cell": "0e360739-563c-4c6a-a0fb-d65afaf941de",
        "part": "whole"
       },
       "id": "765cfe32-19fb-483d-9928-79c09061d6ba"
      }
     }
    },
    "3f8c03f4-d643-4bbd-8b49-358767b23868": {
     "id": "3f8c03f4-d643-4bbd-8b49-358767b23868",
     "prev": "b12a9800-4ed1-47c7-a688-3abe6d0d10cb",
     "regions": {
      "354d9482-b67b-4ce4-ba66-ef95f13af96d": {
       "attrs": {
        "height": 0.8,
        "width": 0.8,
        "x": 0.1,
        "y": 0.1
       },
       "content": {
        "cell": "39b5a4b8-d7e0-4427-a432-690a2c111e7d",
        "part": "whole"
       },
       "id": "354d9482-b67b-4ce4-ba66-ef95f13af96d"
      }
     }
    },
    "46fd22c1-7be4-46b1-bcb3-579111db00ab": {
     "id": "46fd22c1-7be4-46b1-bcb3-579111db00ab",
     "prev": "3ebbb9a2-583d-4375-ad89-499434873441",
     "regions": {
      "a8802508-b0df-4305-934e-67e7d2e1c5f2": {
       "attrs": {
        "height": 0.8,
        "width": 0.8,
        "x": 0.1,
        "y": 0.1
       },
       "content": {
        "cell": "c908db8c-4420-4788-b1b8-e450fd6d2161",
        "part": "whole"
       },
       "id": "a8802508-b0df-4305-934e-67e7d2e1c5f2"
      }
     }
    },
    "485ba65e-d3d6-4095-8a7d-8a443dc1f873": {
     "id": "485ba65e-d3d6-4095-8a7d-8a443dc1f873",
     "prev": "52bfea98-ceff-4bae-9416-58213657dd0d",
     "regions": {
      "9ac4462f-c2f9-40dc-b4eb-357479790fd6": {
       "attrs": {
        "height": 0.8,
        "width": 0.8,
        "x": 0.1,
        "y": 0.1
       },
       "content": {
        "cell": "ae98b53e-8588-4ce0-9bd5-e5c988cb56e2",
        "part": "whole"
       },
       "id": "9ac4462f-c2f9-40dc-b4eb-357479790fd6"
      }
     }
    },
    "4f208bb3-6e39-445f-ad0f-825572264acf": {
     "id": "4f208bb3-6e39-445f-ad0f-825572264acf",
     "prev": "83923779-0245-467b-bd90-b12c443db078",
     "regions": {
      "43f1b408-9b38-4266-b307-1351997b0123": {
       "attrs": {
        "height": 0.8,
        "width": 0.8,
        "x": 0.1,
        "y": 0.1
       },
       "content": {
        "cell": "7996ab9d-a127-4ef0-907b-6186afe33e45",
        "part": "whole"
       },
       "id": "43f1b408-9b38-4266-b307-1351997b0123"
      }
     }
    },
    "4f9f2e19-9c77-40d4-8b45-e5f7e08867f3": {
     "id": "4f9f2e19-9c77-40d4-8b45-e5f7e08867f3",
     "prev": "07eab611-d137-4a40-a1a9-63f35002630e",
     "regions": {
      "3b1c7e16-a692-4845-a5e6-2e58e535a08d": {
       "attrs": {
        "height": 0.8,
        "width": 0.8,
        "x": 0.1,
        "y": 0.1
       },
       "content": {
        "cell": "999cbb7e-6189-4492-b569-622160d8df10",
        "part": "whole"
       },
       "id": "3b1c7e16-a692-4845-a5e6-2e58e535a08d"
      }
     }
    },
    "52bfea98-ceff-4bae-9416-58213657dd0d": {
     "id": "52bfea98-ceff-4bae-9416-58213657dd0d",
     "prev": "4f9f2e19-9c77-40d4-8b45-e5f7e08867f3",
     "regions": {
      "b2f7cd88-84fe-4105-a223-2192fc79f920": {
       "attrs": {
        "height": 0.8,
        "width": 0.8,
        "x": 0.1,
        "y": 0.1
       },
       "content": {
        "cell": "a9fa79b4-3850-480a-a5a2-880d36846e02",
        "part": "whole"
       },
       "id": "b2f7cd88-84fe-4105-a223-2192fc79f920"
      }
     }
    },
    "55c32566-5f5b-4ddf-bda6-8eda78d2dc6d": {
     "id": "55c32566-5f5b-4ddf-bda6-8eda78d2dc6d",
     "prev": "f4067148-a377-4d9c-9047-abef2a3933f2",
     "regions": {
      "ef9b50dc-98a3-44d5-bc54-517ab4e00fd1": {
       "attrs": {
        "height": 0.8,
        "width": 0.8,
        "x": 0.1,
        "y": 0.1
       },
       "content": {
        "cell": "387728fd-542d-46ff-b65f-e1e6181ea530",
        "part": "whole"
       },
       "id": "ef9b50dc-98a3-44d5-bc54-517ab4e00fd1"
      }
     }
    },
    "83923779-0245-467b-bd90-b12c443db078": {
     "id": "83923779-0245-467b-bd90-b12c443db078",
     "prev": "2bb40302-177a-44bb-bfba-cc0243fdd13c",
     "regions": {
      "8aad2f19-d232-4f2a-a55d-fbefc9c61842": {
       "attrs": {
        "height": 0.8,
        "width": 0.8,
        "x": 0.1,
        "y": 0.1
       },
       "content": {
        "cell": "be612174-e159-40b1-9724-972ab58e1fb6",
        "part": "whole"
       },
       "id": "8aad2f19-d232-4f2a-a55d-fbefc9c61842"
      }
     }
    },
    "985533f4-fe36-47b4-b190-26cd5214027b": {
     "id": "985533f4-fe36-47b4-b190-26cd5214027b",
     "prev": null,
     "regions": {
      "72a46a68-95f1-4dfc-8f0d-d25c96fff21a": {
       "attrs": {
        "height": 0.8,
        "width": 0.8,
        "x": 0.1,
        "y": 0.1
       },
       "content": {
        "cell": "9ef47cbc-677e-47aa-9d6b-c7a942c77b37",
        "part": "whole"
       },
       "id": "72a46a68-95f1-4dfc-8f0d-d25c96fff21a"
      }
     }
    },
    "a89e8bc7-34db-421b-8aff-74aab45784fe": {
     "id": "a89e8bc7-34db-421b-8aff-74aab45784fe",
     "prev": "3461813e-005a-4d95-ae4b-fb5d81a0fb21",
     "regions": {
      "fc7b72bb-86ad-46ed-982c-5a0da4e213a1": {
       "attrs": {
        "height": 0.8,
        "width": 0.8,
        "x": 0.1,
        "y": 0.1
       },
       "content": {
        "cell": "6ecdf80d-e3a5-47bc-92b8-9e5cb90a21a8",
        "part": "whole"
       },
       "id": "fc7b72bb-86ad-46ed-982c-5a0da4e213a1"
      }
     }
    },
    "b12a9800-4ed1-47c7-a688-3abe6d0d10cb": {
     "id": "b12a9800-4ed1-47c7-a688-3abe6d0d10cb",
     "prev": "cbfc8fa0-0f7f-41dd-9d19-91c482088ee5",
     "regions": {
      "b3525bde-0c70-4f4b-a887-40ae5a69b8eb": {
       "attrs": {
        "height": 0.8,
        "width": 0.8,
        "x": 0.1,
        "y": 0.1
       },
       "content": {
        "cell": "f524ead4-e782-4dd8-ad81-2d2fb91d72d4",
        "part": "whole"
       },
       "id": "b3525bde-0c70-4f4b-a887-40ae5a69b8eb"
      }
     }
    },
    "c8358161-225f-49ec-a9da-341f0e56386f": {
     "id": "c8358161-225f-49ec-a9da-341f0e56386f",
     "prev": "3f8c03f4-d643-4bbd-8b49-358767b23868",
     "regions": {
      "3f7fd265-fd51-47a1-b90e-1b910823c258": {
       "attrs": {
        "height": 0.8,
        "width": 0.8,
        "x": 0.1,
        "y": 0.1
       },
       "content": {
        "cell": "a708d776-fa96-48f9-b2a4-fb46d36691d1",
        "part": "whole"
       },
       "id": "3f7fd265-fd51-47a1-b90e-1b910823c258"
      }
     }
    },
    "cbfc8fa0-0f7f-41dd-9d19-91c482088ee5": {
     "id": "cbfc8fa0-0f7f-41dd-9d19-91c482088ee5",
     "prev": "db6dac81-9716-41b2-a9f0-187d3b051286",
     "regions": {
      "d29ae587-3bb7-4c29-bf5b-e0d77c332c92": {
       "attrs": {
        "height": 0.8,
        "width": 0.8,
        "x": 0.1,
        "y": 0.1
       },
       "content": {
        "cell": "02fa1d29-5555-4a92-b094-71304103643f",
        "part": "whole"
       },
       "id": "d29ae587-3bb7-4c29-bf5b-e0d77c332c92"
      }
     }
    },
    "db6dac81-9716-41b2-a9f0-187d3b051286": {
     "id": "db6dac81-9716-41b2-a9f0-187d3b051286",
     "layout": "manual",
     "prev": "985533f4-fe36-47b4-b190-26cd5214027b",
     "regions": {
      "aac2a2df-621f-4ebd-af4c-a4d3741f90db": {
       "attrs": {
        "height": 1,
        "pad": 0.01,
        "treemap:weight": 1,
        "width": 1,
        "x": 0,
        "y": 0
       },
       "content": {
        "cell": "509e456a-791f-40cc-8638-071375faaecc",
        "part": "whole"
       },
       "id": "aac2a2df-621f-4ebd-af4c-a4d3741f90db"
      }
     }
    },
    "f4067148-a377-4d9c-9047-abef2a3933f2": {
     "id": "f4067148-a377-4d9c-9047-abef2a3933f2",
     "prev": "fabfc1b8-1957-460a-8179-ebd9092161b0",
     "regions": {
      "5ce8bc04-1eab-4be1-b1df-4287f513c4c3": {
       "attrs": {
        "height": 0.8,
        "width": 0.8,
        "x": 0.1,
        "y": 0.1
       },
       "content": {
        "cell": "8719910a-923c-41b7-ad1f-9c5363cbec28",
        "part": "whole"
       },
       "id": "5ce8bc04-1eab-4be1-b1df-4287f513c4c3"
      }
     }
    },
    "fabfc1b8-1957-460a-8179-ebd9092161b0": {
     "id": "fabfc1b8-1957-460a-8179-ebd9092161b0",
     "prev": "283e303d-3c3a-4356-8ca5-d235073bc0f4",
     "regions": {
      "690e5b43-7217-4de4-9757-e30adad9111f": {
       "attrs": {
        "height": 0.8,
        "width": 0.8,
        "x": 0.1,
        "y": 0.1
       },
       "content": {
        "cell": "f8971090-fc96-4070-9732-2744b6b33145",
        "part": "whole"
       },
       "id": "690e5b43-7217-4de4-9757-e30adad9111f"
      }
     }
    }
   },
   "themes": {}
  }
 },
 "nbformat": 4,
 "nbformat_minor": 0
}
